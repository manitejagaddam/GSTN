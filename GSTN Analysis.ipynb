{
 "cells": [
  {
   "cell_type": "code",
   "execution_count": 1,
   "id": "e1dd6d88",
   "metadata": {},
   "outputs": [],
   "source": [
    "import pandas as pd\n",
    "import numpy as np"
   ]
  },
  {
   "cell_type": "code",
   "execution_count": 2,
   "id": "383cd710",
   "metadata": {},
   "outputs": [],
   "source": [
    "df = pd.read_csv(\"X_Train_Data_Input.csv\")"
   ]
  },
  {
   "cell_type": "code",
   "execution_count": 3,
   "id": "f6026aff",
   "metadata": {},
   "outputs": [
    {
     "data": {
      "text/html": [
       "<div>\n",
       "<style scoped>\n",
       "    .dataframe tbody tr th:only-of-type {\n",
       "        vertical-align: middle;\n",
       "    }\n",
       "\n",
       "    .dataframe tbody tr th {\n",
       "        vertical-align: top;\n",
       "    }\n",
       "\n",
       "    .dataframe thead th {\n",
       "        text-align: right;\n",
       "    }\n",
       "</style>\n",
       "<table border=\"1\" class=\"dataframe\">\n",
       "  <thead>\n",
       "    <tr style=\"text-align: right;\">\n",
       "      <th></th>\n",
       "      <th>ID</th>\n",
       "      <th>Column0</th>\n",
       "      <th>Column1</th>\n",
       "      <th>Column2</th>\n",
       "      <th>Column3</th>\n",
       "      <th>Column4</th>\n",
       "      <th>Column5</th>\n",
       "      <th>Column6</th>\n",
       "      <th>Column7</th>\n",
       "      <th>Column8</th>\n",
       "      <th>...</th>\n",
       "      <th>Column12</th>\n",
       "      <th>Column13</th>\n",
       "      <th>Column14</th>\n",
       "      <th>Column15</th>\n",
       "      <th>Column16</th>\n",
       "      <th>Column17</th>\n",
       "      <th>Column18</th>\n",
       "      <th>Column19</th>\n",
       "      <th>Column20</th>\n",
       "      <th>Column21</th>\n",
       "    </tr>\n",
       "  </thead>\n",
       "  <tbody>\n",
       "    <tr>\n",
       "      <th>0</th>\n",
       "      <td>ad1a67e4cbddc767a3456b0d94299b9e</td>\n",
       "      <td>2.0</td>\n",
       "      <td>2495</td>\n",
       "      <td>3726.0</td>\n",
       "      <td>0.678139</td>\n",
       "      <td>0.701403</td>\n",
       "      <td>-0.007468</td>\n",
       "      <td>0.434190</td>\n",
       "      <td>-0.015603</td>\n",
       "      <td>0.606265</td>\n",
       "      <td>...</td>\n",
       "      <td>0</td>\n",
       "      <td>0</td>\n",
       "      <td>0.001351</td>\n",
       "      <td>0.00339</td>\n",
       "      <td>0.0</td>\n",
       "      <td>0</td>\n",
       "      <td>0.0</td>\n",
       "      <td>0</td>\n",
       "      <td>0</td>\n",
       "      <td>0</td>\n",
       "    </tr>\n",
       "    <tr>\n",
       "      <th>1</th>\n",
       "      <td>7246d2f76ac0c217ec25e72ea5f014cb</td>\n",
       "      <td>0.0</td>\n",
       "      <td>2495</td>\n",
       "      <td>3454.0</td>\n",
       "      <td>0.452580</td>\n",
       "      <td>0.701403</td>\n",
       "      <td>-0.007468</td>\n",
       "      <td>1.554998</td>\n",
       "      <td>-0.015574</td>\n",
       "      <td>0.329946</td>\n",
       "      <td>...</td>\n",
       "      <td>0</td>\n",
       "      <td>0</td>\n",
       "      <td>0.001351</td>\n",
       "      <td>0.00339</td>\n",
       "      <td>0.0</td>\n",
       "      <td>0</td>\n",
       "      <td>0.0</td>\n",
       "      <td>0</td>\n",
       "      <td>0</td>\n",
       "      <td>0</td>\n",
       "    </tr>\n",
       "    <tr>\n",
       "      <th>2</th>\n",
       "      <td>22ba388e7dd14c13342c49e75fc29dda</td>\n",
       "      <td>2.0</td>\n",
       "      <td>2495</td>\n",
       "      <td>4543.0</td>\n",
       "      <td>-1.577453</td>\n",
       "      <td>-1.429540</td>\n",
       "      <td>-0.007469</td>\n",
       "      <td>-0.407939</td>\n",
       "      <td>-0.015607</td>\n",
       "      <td>-0.774979</td>\n",
       "      <td>...</td>\n",
       "      <td>1</td>\n",
       "      <td>1</td>\n",
       "      <td>0.001351</td>\n",
       "      <td>0.00339</td>\n",
       "      <td>0.0</td>\n",
       "      <td>0</td>\n",
       "      <td>0.0</td>\n",
       "      <td>0</td>\n",
       "      <td>0</td>\n",
       "      <td>0</td>\n",
       "    </tr>\n",
       "    <tr>\n",
       "      <th>3</th>\n",
       "      <td>59f9b981472d97342587fb3e6392aeb1</td>\n",
       "      <td>0.0</td>\n",
       "      <td>211</td>\n",
       "      <td>59.0</td>\n",
       "      <td>NaN</td>\n",
       "      <td>NaN</td>\n",
       "      <td>NaN</td>\n",
       "      <td>-0.407939</td>\n",
       "      <td>-0.015607</td>\n",
       "      <td>-0.774979</td>\n",
       "      <td>...</td>\n",
       "      <td>0</td>\n",
       "      <td>0</td>\n",
       "      <td>NaN</td>\n",
       "      <td>0.00339</td>\n",
       "      <td>0.0</td>\n",
       "      <td>0</td>\n",
       "      <td>1.0</td>\n",
       "      <td>0</td>\n",
       "      <td>0</td>\n",
       "      <td>0</td>\n",
       "    </tr>\n",
       "    <tr>\n",
       "      <th>4</th>\n",
       "      <td>f6317cf7ecf126859804eddff279aead</td>\n",
       "      <td>0.0</td>\n",
       "      <td>718</td>\n",
       "      <td>950.0</td>\n",
       "      <td>-2.028572</td>\n",
       "      <td>-1.855728</td>\n",
       "      <td>NaN</td>\n",
       "      <td>-0.407939</td>\n",
       "      <td>-0.015607</td>\n",
       "      <td>-0.774979</td>\n",
       "      <td>...</td>\n",
       "      <td>0</td>\n",
       "      <td>0</td>\n",
       "      <td>NaN</td>\n",
       "      <td>0.00339</td>\n",
       "      <td>0.0</td>\n",
       "      <td>0</td>\n",
       "      <td>0.0</td>\n",
       "      <td>0</td>\n",
       "      <td>0</td>\n",
       "      <td>0</td>\n",
       "    </tr>\n",
       "  </tbody>\n",
       "</table>\n",
       "<p>5 rows × 23 columns</p>\n",
       "</div>"
      ],
      "text/plain": [
       "                                 ID  Column0  Column1  Column2   Column3  \\\n",
       "0  ad1a67e4cbddc767a3456b0d94299b9e      2.0     2495   3726.0  0.678139   \n",
       "1  7246d2f76ac0c217ec25e72ea5f014cb      0.0     2495   3454.0  0.452580   \n",
       "2  22ba388e7dd14c13342c49e75fc29dda      2.0     2495   4543.0 -1.577453   \n",
       "3  59f9b981472d97342587fb3e6392aeb1      0.0      211     59.0       NaN   \n",
       "4  f6317cf7ecf126859804eddff279aead      0.0      718    950.0 -2.028572   \n",
       "\n",
       "    Column4   Column5   Column6   Column7   Column8  ...  Column12  Column13  \\\n",
       "0  0.701403 -0.007468  0.434190 -0.015603  0.606265  ...         0         0   \n",
       "1  0.701403 -0.007468  1.554998 -0.015574  0.329946  ...         0         0   \n",
       "2 -1.429540 -0.007469 -0.407939 -0.015607 -0.774979  ...         1         1   \n",
       "3       NaN       NaN -0.407939 -0.015607 -0.774979  ...         0         0   \n",
       "4 -1.855728       NaN -0.407939 -0.015607 -0.774979  ...         0         0   \n",
       "\n",
       "   Column14  Column15  Column16  Column17  Column18  Column19  Column20  \\\n",
       "0  0.001351   0.00339       0.0         0       0.0         0         0   \n",
       "1  0.001351   0.00339       0.0         0       0.0         0         0   \n",
       "2  0.001351   0.00339       0.0         0       0.0         0         0   \n",
       "3       NaN   0.00339       0.0         0       1.0         0         0   \n",
       "4       NaN   0.00339       0.0         0       0.0         0         0   \n",
       "\n",
       "   Column21  \n",
       "0         0  \n",
       "1         0  \n",
       "2         0  \n",
       "3         0  \n",
       "4         0  \n",
       "\n",
       "[5 rows x 23 columns]"
      ]
     },
     "execution_count": 3,
     "metadata": {},
     "output_type": "execute_result"
    }
   ],
   "source": [
    "df.head()"
   ]
  },
  {
   "cell_type": "code",
   "execution_count": 4,
   "id": "c36ad4f6",
   "metadata": {},
   "outputs": [
    {
     "data": {
      "text/plain": [
       "(785133, 23)"
      ]
     },
     "execution_count": 4,
     "metadata": {},
     "output_type": "execute_result"
    }
   ],
   "source": [
    "df.shape"
   ]
  },
  {
   "cell_type": "code",
   "execution_count": 5,
   "id": "8bf9f55a",
   "metadata": {},
   "outputs": [],
   "source": [
    "df_out = pd.read_csv(\"Y_Train_Data_Target.csv\")"
   ]
  },
  {
   "cell_type": "code",
   "execution_count": 6,
   "id": "b7eafeeb",
   "metadata": {},
   "outputs": [
    {
     "data": {
      "text/html": [
       "<div>\n",
       "<style scoped>\n",
       "    .dataframe tbody tr th:only-of-type {\n",
       "        vertical-align: middle;\n",
       "    }\n",
       "\n",
       "    .dataframe tbody tr th {\n",
       "        vertical-align: top;\n",
       "    }\n",
       "\n",
       "    .dataframe thead th {\n",
       "        text-align: right;\n",
       "    }\n",
       "</style>\n",
       "<table border=\"1\" class=\"dataframe\">\n",
       "  <thead>\n",
       "    <tr style=\"text-align: right;\">\n",
       "      <th></th>\n",
       "      <th>ID</th>\n",
       "      <th>target</th>\n",
       "    </tr>\n",
       "  </thead>\n",
       "  <tbody>\n",
       "    <tr>\n",
       "      <th>0</th>\n",
       "      <td>ad1a67e4cbddc767a3456b0d94299b9e</td>\n",
       "      <td>0</td>\n",
       "    </tr>\n",
       "    <tr>\n",
       "      <th>1</th>\n",
       "      <td>7246d2f76ac0c217ec25e72ea5f014cb</td>\n",
       "      <td>0</td>\n",
       "    </tr>\n",
       "    <tr>\n",
       "      <th>2</th>\n",
       "      <td>22ba388e7dd14c13342c49e75fc29dda</td>\n",
       "      <td>0</td>\n",
       "    </tr>\n",
       "    <tr>\n",
       "      <th>3</th>\n",
       "      <td>59f9b981472d97342587fb3e6392aeb1</td>\n",
       "      <td>1</td>\n",
       "    </tr>\n",
       "    <tr>\n",
       "      <th>4</th>\n",
       "      <td>f6317cf7ecf126859804eddff279aead</td>\n",
       "      <td>0</td>\n",
       "    </tr>\n",
       "  </tbody>\n",
       "</table>\n",
       "</div>"
      ],
      "text/plain": [
       "                                 ID  target\n",
       "0  ad1a67e4cbddc767a3456b0d94299b9e       0\n",
       "1  7246d2f76ac0c217ec25e72ea5f014cb       0\n",
       "2  22ba388e7dd14c13342c49e75fc29dda       0\n",
       "3  59f9b981472d97342587fb3e6392aeb1       1\n",
       "4  f6317cf7ecf126859804eddff279aead       0"
      ]
     },
     "execution_count": 6,
     "metadata": {},
     "output_type": "execute_result"
    }
   ],
   "source": [
    "df_out.head()"
   ]
  },
  {
   "cell_type": "code",
   "execution_count": 7,
   "id": "62f3c729",
   "metadata": {},
   "outputs": [],
   "source": [
    "df_main = pd.merge(df, df_out, on='ID', how='inner')"
   ]
  },
  {
   "cell_type": "code",
   "execution_count": 8,
   "id": "1471375e",
   "metadata": {},
   "outputs": [],
   "source": [
    "df_main_copy = df_main.copy()"
   ]
  },
  {
   "cell_type": "code",
   "execution_count": 9,
   "id": "fcaa81fb",
   "metadata": {},
   "outputs": [],
   "source": [
    "df__copy = df.copy()"
   ]
  },
  {
   "cell_type": "code",
   "execution_count": 10,
   "id": "7ed7b2cc",
   "metadata": {},
   "outputs": [],
   "source": [
    "df = df_main"
   ]
  },
  {
   "cell_type": "code",
   "execution_count": 11,
   "id": "e885a83f",
   "metadata": {},
   "outputs": [
    {
     "data": {
      "text/plain": [
       "ID               0\n",
       "Column0          9\n",
       "Column1          0\n",
       "Column2          0\n",
       "Column3     126303\n",
       "Column4     127710\n",
       "Column5     167180\n",
       "Column6       3850\n",
       "Column7          0\n",
       "Column8       3850\n",
       "Column9     732137\n",
       "Column10         0\n",
       "Column11         0\n",
       "Column12         0\n",
       "Column13         0\n",
       "Column14    365703\n",
       "Column15     16456\n",
       "Column16         0\n",
       "Column17         0\n",
       "Column18         0\n",
       "Column19         0\n",
       "Column20         0\n",
       "Column21         0\n",
       "target           0\n",
       "dtype: int64"
      ]
     },
     "execution_count": 11,
     "metadata": {},
     "output_type": "execute_result"
    }
   ],
   "source": [
    "df.isnull().sum()"
   ]
  },
  {
   "cell_type": "code",
   "execution_count": 12,
   "id": "bafb2314",
   "metadata": {},
   "outputs": [],
   "source": [
    "df1 = df.sample(100000)"
   ]
  },
  {
   "cell_type": "code",
   "execution_count": 13,
   "id": "951f6dbd",
   "metadata": {},
   "outputs": [
    {
     "data": {
      "text/plain": [
       "ID              0\n",
       "Column0         1\n",
       "Column1         0\n",
       "Column2         0\n",
       "Column3     16084\n",
       "Column4     16278\n",
       "Column5     21434\n",
       "Column6       505\n",
       "Column7         0\n",
       "Column8       505\n",
       "Column9     93426\n",
       "Column10        0\n",
       "Column11        0\n",
       "Column12        0\n",
       "Column13        0\n",
       "Column14    46589\n",
       "Column15     2118\n",
       "Column16        0\n",
       "Column17        0\n",
       "Column18        0\n",
       "Column19        0\n",
       "Column20        0\n",
       "Column21        0\n",
       "target          0\n",
       "dtype: int64"
      ]
     },
     "execution_count": 13,
     "metadata": {},
     "output_type": "execute_result"
    }
   ],
   "source": [
    "df1.isnull().sum()"
   ]
  },
  {
   "cell_type": "code",
   "execution_count": 14,
   "id": "27f220ff",
   "metadata": {},
   "outputs": [],
   "source": [
    "df1_copy = df1.copy()"
   ]
  },
  {
   "cell_type": "code",
   "execution_count": 15,
   "id": "fca366b3",
   "metadata": {},
   "outputs": [],
   "source": [
    "df1 = df1_copy"
   ]
  },
  {
   "cell_type": "code",
   "execution_count": null,
   "id": "d7fcd3de",
   "metadata": {},
   "outputs": [],
   "source": []
  },
  {
   "cell_type": "code",
   "execution_count": null,
   "id": "892f28e8",
   "metadata": {},
   "outputs": [],
   "source": []
  },
  {
   "cell_type": "code",
   "execution_count": null,
   "id": "78fe4a99",
   "metadata": {},
   "outputs": [],
   "source": []
  },
  {
   "cell_type": "code",
   "execution_count": null,
   "id": "bc69dec4",
   "metadata": {},
   "outputs": [],
   "source": []
  },
  {
   "cell_type": "markdown",
   "id": "236d6a47",
   "metadata": {},
   "source": [
    "Day2"
   ]
  },
  {
   "cell_type": "code",
   "execution_count": 261,
   "id": "4fa4e2d2",
   "metadata": {},
   "outputs": [],
   "source": [
    "import pandas as pd\n",
    "import numpy as np\n",
    "import seaborn as sns\n",
    "import matplotlib.pyplot as plt"
   ]
  },
  {
   "cell_type": "code",
   "execution_count": 327,
   "id": "e26c1b77",
   "metadata": {},
   "outputs": [],
   "source": [
    "df = pd.read_csv(\"X_Train_Data_Input.csv\")"
   ]
  },
  {
   "cell_type": "code",
   "execution_count": 328,
   "id": "e9a80303",
   "metadata": {},
   "outputs": [],
   "source": [
    "target = pd.read_csv(\"Y_Train_Data_Target.csv\")"
   ]
  },
  {
   "cell_type": "code",
   "execution_count": 329,
   "id": "d11ba9de",
   "metadata": {},
   "outputs": [],
   "source": [
    "df = pd.merge(df, target)"
   ]
  },
  {
   "cell_type": "code",
   "execution_count": 265,
   "id": "e90cd092",
   "metadata": {},
   "outputs": [
    {
     "data": {
      "text/html": [
       "<div>\n",
       "<style scoped>\n",
       "    .dataframe tbody tr th:only-of-type {\n",
       "        vertical-align: middle;\n",
       "    }\n",
       "\n",
       "    .dataframe tbody tr th {\n",
       "        vertical-align: top;\n",
       "    }\n",
       "\n",
       "    .dataframe thead th {\n",
       "        text-align: right;\n",
       "    }\n",
       "</style>\n",
       "<table border=\"1\" class=\"dataframe\">\n",
       "  <thead>\n",
       "    <tr style=\"text-align: right;\">\n",
       "      <th></th>\n",
       "      <th>ID</th>\n",
       "      <th>Column0</th>\n",
       "      <th>Column1</th>\n",
       "      <th>Column2</th>\n",
       "      <th>Column3</th>\n",
       "      <th>Column4</th>\n",
       "      <th>Column5</th>\n",
       "      <th>Column6</th>\n",
       "      <th>Column7</th>\n",
       "      <th>Column8</th>\n",
       "      <th>...</th>\n",
       "      <th>Column13</th>\n",
       "      <th>Column14</th>\n",
       "      <th>Column15</th>\n",
       "      <th>Column16</th>\n",
       "      <th>Column17</th>\n",
       "      <th>Column18</th>\n",
       "      <th>Column19</th>\n",
       "      <th>Column20</th>\n",
       "      <th>Column21</th>\n",
       "      <th>target</th>\n",
       "    </tr>\n",
       "  </thead>\n",
       "  <tbody>\n",
       "    <tr>\n",
       "      <th>0</th>\n",
       "      <td>ad1a67e4cbddc767a3456b0d94299b9e</td>\n",
       "      <td>2.0</td>\n",
       "      <td>2495</td>\n",
       "      <td>3726.0</td>\n",
       "      <td>0.678139</td>\n",
       "      <td>0.701403</td>\n",
       "      <td>-0.007468</td>\n",
       "      <td>0.434190</td>\n",
       "      <td>-0.015603</td>\n",
       "      <td>0.606265</td>\n",
       "      <td>...</td>\n",
       "      <td>0</td>\n",
       "      <td>0.001351</td>\n",
       "      <td>0.00339</td>\n",
       "      <td>0.0</td>\n",
       "      <td>0</td>\n",
       "      <td>0.0</td>\n",
       "      <td>0</td>\n",
       "      <td>0</td>\n",
       "      <td>0</td>\n",
       "      <td>0</td>\n",
       "    </tr>\n",
       "    <tr>\n",
       "      <th>1</th>\n",
       "      <td>7246d2f76ac0c217ec25e72ea5f014cb</td>\n",
       "      <td>0.0</td>\n",
       "      <td>2495</td>\n",
       "      <td>3454.0</td>\n",
       "      <td>0.452580</td>\n",
       "      <td>0.701403</td>\n",
       "      <td>-0.007468</td>\n",
       "      <td>1.554998</td>\n",
       "      <td>-0.015574</td>\n",
       "      <td>0.329946</td>\n",
       "      <td>...</td>\n",
       "      <td>0</td>\n",
       "      <td>0.001351</td>\n",
       "      <td>0.00339</td>\n",
       "      <td>0.0</td>\n",
       "      <td>0</td>\n",
       "      <td>0.0</td>\n",
       "      <td>0</td>\n",
       "      <td>0</td>\n",
       "      <td>0</td>\n",
       "      <td>0</td>\n",
       "    </tr>\n",
       "    <tr>\n",
       "      <th>2</th>\n",
       "      <td>22ba388e7dd14c13342c49e75fc29dda</td>\n",
       "      <td>2.0</td>\n",
       "      <td>2495</td>\n",
       "      <td>4543.0</td>\n",
       "      <td>-1.577453</td>\n",
       "      <td>-1.429540</td>\n",
       "      <td>-0.007469</td>\n",
       "      <td>-0.407939</td>\n",
       "      <td>-0.015607</td>\n",
       "      <td>-0.774979</td>\n",
       "      <td>...</td>\n",
       "      <td>1</td>\n",
       "      <td>0.001351</td>\n",
       "      <td>0.00339</td>\n",
       "      <td>0.0</td>\n",
       "      <td>0</td>\n",
       "      <td>0.0</td>\n",
       "      <td>0</td>\n",
       "      <td>0</td>\n",
       "      <td>0</td>\n",
       "      <td>0</td>\n",
       "    </tr>\n",
       "    <tr>\n",
       "      <th>3</th>\n",
       "      <td>59f9b981472d97342587fb3e6392aeb1</td>\n",
       "      <td>0.0</td>\n",
       "      <td>211</td>\n",
       "      <td>59.0</td>\n",
       "      <td>NaN</td>\n",
       "      <td>NaN</td>\n",
       "      <td>NaN</td>\n",
       "      <td>-0.407939</td>\n",
       "      <td>-0.015607</td>\n",
       "      <td>-0.774979</td>\n",
       "      <td>...</td>\n",
       "      <td>0</td>\n",
       "      <td>NaN</td>\n",
       "      <td>0.00339</td>\n",
       "      <td>0.0</td>\n",
       "      <td>0</td>\n",
       "      <td>1.0</td>\n",
       "      <td>0</td>\n",
       "      <td>0</td>\n",
       "      <td>0</td>\n",
       "      <td>1</td>\n",
       "    </tr>\n",
       "    <tr>\n",
       "      <th>4</th>\n",
       "      <td>f6317cf7ecf126859804eddff279aead</td>\n",
       "      <td>0.0</td>\n",
       "      <td>718</td>\n",
       "      <td>950.0</td>\n",
       "      <td>-2.028572</td>\n",
       "      <td>-1.855728</td>\n",
       "      <td>NaN</td>\n",
       "      <td>-0.407939</td>\n",
       "      <td>-0.015607</td>\n",
       "      <td>-0.774979</td>\n",
       "      <td>...</td>\n",
       "      <td>0</td>\n",
       "      <td>NaN</td>\n",
       "      <td>0.00339</td>\n",
       "      <td>0.0</td>\n",
       "      <td>0</td>\n",
       "      <td>0.0</td>\n",
       "      <td>0</td>\n",
       "      <td>0</td>\n",
       "      <td>0</td>\n",
       "      <td>0</td>\n",
       "    </tr>\n",
       "  </tbody>\n",
       "</table>\n",
       "<p>5 rows × 24 columns</p>\n",
       "</div>"
      ],
      "text/plain": [
       "                                 ID  Column0  Column1  Column2   Column3  \\\n",
       "0  ad1a67e4cbddc767a3456b0d94299b9e      2.0     2495   3726.0  0.678139   \n",
       "1  7246d2f76ac0c217ec25e72ea5f014cb      0.0     2495   3454.0  0.452580   \n",
       "2  22ba388e7dd14c13342c49e75fc29dda      2.0     2495   4543.0 -1.577453   \n",
       "3  59f9b981472d97342587fb3e6392aeb1      0.0      211     59.0       NaN   \n",
       "4  f6317cf7ecf126859804eddff279aead      0.0      718    950.0 -2.028572   \n",
       "\n",
       "    Column4   Column5   Column6   Column7   Column8  ...  Column13  Column14  \\\n",
       "0  0.701403 -0.007468  0.434190 -0.015603  0.606265  ...         0  0.001351   \n",
       "1  0.701403 -0.007468  1.554998 -0.015574  0.329946  ...         0  0.001351   \n",
       "2 -1.429540 -0.007469 -0.407939 -0.015607 -0.774979  ...         1  0.001351   \n",
       "3       NaN       NaN -0.407939 -0.015607 -0.774979  ...         0       NaN   \n",
       "4 -1.855728       NaN -0.407939 -0.015607 -0.774979  ...         0       NaN   \n",
       "\n",
       "   Column15  Column16  Column17  Column18  Column19  Column20  Column21  \\\n",
       "0   0.00339       0.0         0       0.0         0         0         0   \n",
       "1   0.00339       0.0         0       0.0         0         0         0   \n",
       "2   0.00339       0.0         0       0.0         0         0         0   \n",
       "3   0.00339       0.0         0       1.0         0         0         0   \n",
       "4   0.00339       0.0         0       0.0         0         0         0   \n",
       "\n",
       "   target  \n",
       "0       0  \n",
       "1       0  \n",
       "2       0  \n",
       "3       1  \n",
       "4       0  \n",
       "\n",
       "[5 rows x 24 columns]"
      ]
     },
     "execution_count": 265,
     "metadata": {},
     "output_type": "execute_result"
    }
   ],
   "source": [
    "df.head()"
   ]
  },
  {
   "cell_type": "code",
   "execution_count": 266,
   "id": "042f346d",
   "metadata": {},
   "outputs": [
    {
     "name": "stdout",
     "output_type": "stream",
     "text": [
      "<class 'pandas.core.frame.DataFrame'>\n",
      "Int64Index: 785133 entries, 0 to 785132\n",
      "Data columns (total 24 columns):\n",
      " #   Column    Non-Null Count   Dtype  \n",
      "---  ------    --------------   -----  \n",
      " 0   ID        785133 non-null  object \n",
      " 1   Column0   785124 non-null  float64\n",
      " 2   Column1   785133 non-null  int64  \n",
      " 3   Column2   785133 non-null  float64\n",
      " 4   Column3   658830 non-null  float64\n",
      " 5   Column4   657423 non-null  float64\n",
      " 6   Column5   617953 non-null  float64\n",
      " 7   Column6   781283 non-null  float64\n",
      " 8   Column7   785133 non-null  float64\n",
      " 9   Column8   781283 non-null  float64\n",
      " 10  Column9   52996 non-null   float64\n",
      " 11  Column10  785133 non-null  int64  \n",
      " 12  Column11  785133 non-null  int64  \n",
      " 13  Column12  785133 non-null  int64  \n",
      " 14  Column13  785133 non-null  int64  \n",
      " 15  Column14  419430 non-null  float64\n",
      " 16  Column15  768677 non-null  float64\n",
      " 17  Column16  785133 non-null  float64\n",
      " 18  Column17  785133 non-null  int64  \n",
      " 19  Column18  785133 non-null  float64\n",
      " 20  Column19  785133 non-null  int64  \n",
      " 21  Column20  785133 non-null  int64  \n",
      " 22  Column21  785133 non-null  int64  \n",
      " 23  target    785133 non-null  int64  \n",
      "dtypes: float64(13), int64(10), object(1)\n",
      "memory usage: 149.8+ MB\n"
     ]
    }
   ],
   "source": [
    "df.info()"
   ]
  },
  {
   "cell_type": "code",
   "execution_count": 267,
   "id": "43ccb76d",
   "metadata": {},
   "outputs": [],
   "source": [
    "df = df.drop(\"ID\", axis = 1)"
   ]
  },
  {
   "cell_type": "code",
   "execution_count": 268,
   "id": "002ef34a",
   "metadata": {},
   "outputs": [],
   "source": [
    "null_percentage = df.isnull().sum()/len(df)*100"
   ]
  },
  {
   "cell_type": "code",
   "execution_count": 269,
   "id": "1cdd21b1",
   "metadata": {},
   "outputs": [
    {
     "data": {
      "text/plain": [
       "Column0      0.001146\n",
       "Column1      0.000000\n",
       "Column2      0.000000\n",
       "Column3     16.086829\n",
       "Column4     16.266034\n",
       "Column5     21.293208\n",
       "Column6      0.490363\n",
       "Column7      0.000000\n",
       "Column8      0.490363\n",
       "Column9     93.250061\n",
       "Column10     0.000000\n",
       "Column11     0.000000\n",
       "Column12     0.000000\n",
       "Column13     0.000000\n",
       "Column14    46.578478\n",
       "Column15     2.095951\n",
       "Column16     0.000000\n",
       "Column17     0.000000\n",
       "Column18     0.000000\n",
       "Column19     0.000000\n",
       "Column20     0.000000\n",
       "Column21     0.000000\n",
       "target       0.000000\n",
       "dtype: float64"
      ]
     },
     "execution_count": 269,
     "metadata": {},
     "output_type": "execute_result"
    }
   ],
   "source": [
    "null_percentage"
   ]
  },
  {
   "cell_type": "code",
   "execution_count": 170,
   "id": "41a5a6d9",
   "metadata": {},
   "outputs": [
    {
     "data": {
      "text/plain": [
       "(785133, 23)"
      ]
     },
     "execution_count": 170,
     "metadata": {},
     "output_type": "execute_result"
    }
   ],
   "source": [
    "df.shape"
   ]
  },
  {
   "cell_type": "code",
   "execution_count": 171,
   "id": "65e8575e",
   "metadata": {},
   "outputs": [],
   "source": [
    "cols = null_percentage[null_percentage < 5].iloc[:].index"
   ]
  },
  {
   "cell_type": "code",
   "execution_count": 270,
   "id": "4ad8ac49",
   "metadata": {},
   "outputs": [],
   "source": [
    "def unique_values(df):\n",
    "    for i in df.columns:\n",
    "        print(f\"Unique Values of {i} : \")\n",
    "        print(df[i].unique())\n",
    "        print(\"Number of unique values : {df[i].nunique()}\")\n",
    "#         print(df[i].nunique())\n",
    "        print(\"--------------------------------------------------------------------------------------\")"
   ]
  },
  {
   "cell_type": "code",
   "execution_count": 271,
   "id": "e93c42e5",
   "metadata": {},
   "outputs": [
    {
     "name": "stdout",
     "output_type": "stream",
     "text": [
      "Unique Values of Column0 : \n",
      "[ 2.  0.  1.  5.  6.  7.  4.  8. 15.  3.  9. 11. 12. 14. 10. 13. 16. 17.\n",
      " 18. nan]\n",
      "Number of unique values : {df[i].nunique()}\n",
      "--------------------------------------------------------------------------------------\n",
      "Unique Values of Column1 : \n",
      "[ 2495   211   718 ...   -58  -921 -1080]\n",
      "Number of unique values : {df[i].nunique()}\n",
      "--------------------------------------------------------------------------------------\n",
      "Unique Values of Column2 : \n",
      "[3726. 3454. 4543. ... 9399. 9871. 8955.]\n",
      "Number of unique values : {df[i].nunique()}\n",
      "--------------------------------------------------------------------------------------\n",
      "Unique Values of Column3 : \n",
      "[ 6.78139438e-01  4.52580144e-01 -1.57745350e+00             nan\n",
      " -2.02857209e+00 -1.12633491e+00 -4.04545172e-01  2.27020851e-01\n",
      "  1.46155693e-03 -2.24097737e-01 -1.42708064e+00 -1.80301279e+00\n",
      " -1.35189420e+00 -1.53644272e+00 -6.75216324e-01  4.07468285e-01\n",
      " -4.49657030e-01  3.77393713e-01 -1.72782636e+00 -9.45887476e-01\n",
      "  3.39800497e-01 -1.69023315e+00 -1.78250740e+00 -9.00775618e-01\n",
      "  2.91466363e-01 -8.68552861e-01 -1.33874019e-01  4.32074754e-01\n",
      " -9.52067118e-02  1.36797133e-01 -1.29037803e+00  1.86010070e-01\n",
      " -3.36877384e-01 -1.48722978e+00 -1.64189901e+00 -7.98248666e-01\n",
      " -1.25522594e+00  7.66479881e-02 -1.01355526e+00 -1.21655863e+00\n",
      " -3.06119298e-01 -5.24843462e-01 -8.25589186e-01 -6.00546141e-02\n",
      " -4.81879787e-01 -1.75790093e+00 -5.52183982e-01 -1.04431335e+00]\n",
      "Number of unique values : {df[i].nunique()}\n",
      "--------------------------------------------------------------------------------------\n",
      "Unique Values of Column4 : \n",
      "[ 0.70140347 -1.42953964         nan -1.85572826 -1.21644533 -0.32144922\n",
      " -1.57160251  0.27521485 -1.64263395  0.48830916  0.06212053 -1.00335102\n",
      " -1.39079522 -0.5771624  -0.79025671 -0.15097378 -0.36406809 -1.34430192\n",
      " -0.83287557  0.13315197 -1.5360868  -1.62326174  0.33609893  0.23647043\n",
      "  0.44569029 -0.0292056   0.18997712 -1.60001509 -0.22846262 -1.1583287\n",
      " -0.25752093 -1.08858874 -0.06573605 -1.1251192   0.46893695 -0.69339566\n",
      " -1.49042373  0.381762   -0.71922527 -0.75981466 -0.89680386 -0.39451013\n",
      " -0.43509952  0.41727772 -1.28747677  0.0040039  -0.46092914 -0.92586218]\n",
      "Number of unique values : {df[i].nunique()}\n",
      "--------------------------------------------------------------------------------------\n",
      "Unique Values of Column5 : \n",
      "[-0.00746791 -0.00746789 -0.00746865 ... -0.00746728 -0.00746788\n",
      " -0.00746737]\n",
      "Number of unique values : {df[i].nunique()}\n",
      "--------------------------------------------------------------------------------------\n",
      "Unique Values of Column6 : \n",
      "[ 0.43418989  1.55499786 -0.40793912 ... -0.21063597  1.05993505\n",
      " -0.31445604]\n",
      "Number of unique values : {df[i].nunique()}\n",
      "--------------------------------------------------------------------------------------\n",
      "Unique Values of Column7 : \n",
      "[-0.01560279 -0.01557384 -0.01560743 ... -0.01560434 -0.01560574\n",
      " -0.01560305]\n",
      "Number of unique values : {df[i].nunique()}\n",
      "--------------------------------------------------------------------------------------\n",
      "Unique Values of Column8 : \n",
      "[ 0.60626497  0.32994644 -0.77497916 ...  0.87031308  0.21897248\n",
      "  0.47109729]\n",
      "Number of unique values : {df[i].nunique()}\n",
      "--------------------------------------------------------------------------------------\n",
      "Unique Values of Column9 : \n",
      "[        nan -0.0833495   5.23927963 ... -0.08672417 -0.08673775\n",
      " -0.08730212]\n",
      "Number of unique values : {df[i].nunique()}\n",
      "--------------------------------------------------------------------------------------\n",
      "Unique Values of Column10 : \n",
      "[0 1]\n",
      "Number of unique values : {df[i].nunique()}\n",
      "--------------------------------------------------------------------------------------\n",
      "Unique Values of Column11 : \n",
      "[0 1]\n",
      "Number of unique values : {df[i].nunique()}\n",
      "--------------------------------------------------------------------------------------\n",
      "Unique Values of Column12 : \n",
      "[0 1]\n",
      "Number of unique values : {df[i].nunique()}\n",
      "--------------------------------------------------------------------------------------\n",
      "Unique Values of Column13 : \n",
      "[0 1]\n",
      "Number of unique values : {df[i].nunique()}\n",
      "--------------------------------------------------------------------------------------\n",
      "Unique Values of Column14 : \n",
      "[0.00135061 0.00135061 0.00135059 ... 0.00135046 0.00135062 0.00135062]\n",
      "Number of unique values : {df[i].nunique()}\n",
      "--------------------------------------------------------------------------------------\n",
      "Unique Values of Column15 : \n",
      "[0.0033901  0.0033901  0.00339014 ... 0.00339005 0.0033901  0.0033902 ]\n",
      "Number of unique values : {df[i].nunique()}\n",
      "--------------------------------------------------------------------------------------\n",
      "Unique Values of Column16 : \n",
      "[0. 1. 2.]\n",
      "Number of unique values : {df[i].nunique()}\n",
      "--------------------------------------------------------------------------------------\n",
      "Unique Values of Column17 : \n",
      "[  0   1  18   3  16   8   4  17   2  11  20  56  34  43  10  41   9   6\n",
      "  21  19   5  31 192  72  13  44  14  25  65  22  12  26   7  30  48  40\n",
      "  78  28  55  39 159  46  57  29  15 114  60  36  54  93  47  24  32  37\n",
      "  23 130  68  35  27 128  50  83  61  75  49  38  33  42  74 101  58  45\n",
      "  73  59 116  71 143 147  80  88  64 108 112  77  98  90  69  94  51  70\n",
      " 135 219  52 728  87  85  79 177 102  96  62 148  66  76  82  53  81  63\n",
      "  86 122 164  67 113 104 214 103 188  99 115 131  84 156  95  92 161 121\n",
      " 111  91 123 106  89 165 171 209 160 170 190 149 183 105 189 132 109 117\n",
      " 166  97 100 126 136 168 118 107 157]\n",
      "Number of unique values : {df[i].nunique()}\n",
      "--------------------------------------------------------------------------------------\n",
      "Unique Values of Column18 : \n",
      "[ 0.  1.  2.  3.  7.  6.  4.  5.  8.  9. 12.]\n",
      "Number of unique values : {df[i].nunique()}\n",
      "--------------------------------------------------------------------------------------\n",
      "Unique Values of Column19 : \n",
      "[0 1]\n",
      "Number of unique values : {df[i].nunique()}\n",
      "--------------------------------------------------------------------------------------\n",
      "Unique Values of Column20 : \n",
      "[0 1]\n",
      "Number of unique values : {df[i].nunique()}\n",
      "--------------------------------------------------------------------------------------\n",
      "Unique Values of Column21 : \n",
      "[0 1]\n",
      "Number of unique values : {df[i].nunique()}\n",
      "--------------------------------------------------------------------------------------\n",
      "Unique Values of target : \n",
      "[0 1]\n",
      "Number of unique values : {df[i].nunique()}\n",
      "--------------------------------------------------------------------------------------\n"
     ]
    }
   ],
   "source": [
    "unique_values(df)"
   ]
  },
  {
   "cell_type": "code",
   "execution_count": 174,
   "id": "4302dca7",
   "metadata": {},
   "outputs": [],
   "source": [
    "df_new = df[cols]"
   ]
  },
  {
   "cell_type": "code",
   "execution_count": 175,
   "id": "dfe8b76e",
   "metadata": {},
   "outputs": [
    {
     "data": {
      "text/html": [
       "<div>\n",
       "<style scoped>\n",
       "    .dataframe tbody tr th:only-of-type {\n",
       "        vertical-align: middle;\n",
       "    }\n",
       "\n",
       "    .dataframe tbody tr th {\n",
       "        vertical-align: top;\n",
       "    }\n",
       "\n",
       "    .dataframe thead th {\n",
       "        text-align: right;\n",
       "    }\n",
       "</style>\n",
       "<table border=\"1\" class=\"dataframe\">\n",
       "  <thead>\n",
       "    <tr style=\"text-align: right;\">\n",
       "      <th></th>\n",
       "      <th>Column0</th>\n",
       "      <th>Column1</th>\n",
       "      <th>Column2</th>\n",
       "      <th>Column6</th>\n",
       "      <th>Column7</th>\n",
       "      <th>Column8</th>\n",
       "      <th>Column10</th>\n",
       "      <th>Column11</th>\n",
       "      <th>Column12</th>\n",
       "      <th>Column13</th>\n",
       "      <th>Column15</th>\n",
       "      <th>Column16</th>\n",
       "      <th>Column17</th>\n",
       "      <th>Column18</th>\n",
       "      <th>Column19</th>\n",
       "      <th>Column20</th>\n",
       "      <th>Column21</th>\n",
       "      <th>target</th>\n",
       "    </tr>\n",
       "  </thead>\n",
       "  <tbody>\n",
       "    <tr>\n",
       "      <th>0</th>\n",
       "      <td>2.0</td>\n",
       "      <td>2495</td>\n",
       "      <td>3726.0</td>\n",
       "      <td>0.434190</td>\n",
       "      <td>-0.015603</td>\n",
       "      <td>0.606265</td>\n",
       "      <td>0</td>\n",
       "      <td>0</td>\n",
       "      <td>0</td>\n",
       "      <td>0</td>\n",
       "      <td>0.00339</td>\n",
       "      <td>0.0</td>\n",
       "      <td>0</td>\n",
       "      <td>0.0</td>\n",
       "      <td>0</td>\n",
       "      <td>0</td>\n",
       "      <td>0</td>\n",
       "      <td>0</td>\n",
       "    </tr>\n",
       "    <tr>\n",
       "      <th>1</th>\n",
       "      <td>0.0</td>\n",
       "      <td>2495</td>\n",
       "      <td>3454.0</td>\n",
       "      <td>1.554998</td>\n",
       "      <td>-0.015574</td>\n",
       "      <td>0.329946</td>\n",
       "      <td>0</td>\n",
       "      <td>0</td>\n",
       "      <td>0</td>\n",
       "      <td>0</td>\n",
       "      <td>0.00339</td>\n",
       "      <td>0.0</td>\n",
       "      <td>0</td>\n",
       "      <td>0.0</td>\n",
       "      <td>0</td>\n",
       "      <td>0</td>\n",
       "      <td>0</td>\n",
       "      <td>0</td>\n",
       "    </tr>\n",
       "    <tr>\n",
       "      <th>2</th>\n",
       "      <td>2.0</td>\n",
       "      <td>2495</td>\n",
       "      <td>4543.0</td>\n",
       "      <td>-0.407939</td>\n",
       "      <td>-0.015607</td>\n",
       "      <td>-0.774979</td>\n",
       "      <td>1</td>\n",
       "      <td>1</td>\n",
       "      <td>1</td>\n",
       "      <td>1</td>\n",
       "      <td>0.00339</td>\n",
       "      <td>0.0</td>\n",
       "      <td>0</td>\n",
       "      <td>0.0</td>\n",
       "      <td>0</td>\n",
       "      <td>0</td>\n",
       "      <td>0</td>\n",
       "      <td>0</td>\n",
       "    </tr>\n",
       "    <tr>\n",
       "      <th>3</th>\n",
       "      <td>0.0</td>\n",
       "      <td>211</td>\n",
       "      <td>59.0</td>\n",
       "      <td>-0.407939</td>\n",
       "      <td>-0.015607</td>\n",
       "      <td>-0.774979</td>\n",
       "      <td>0</td>\n",
       "      <td>0</td>\n",
       "      <td>0</td>\n",
       "      <td>0</td>\n",
       "      <td>0.00339</td>\n",
       "      <td>0.0</td>\n",
       "      <td>0</td>\n",
       "      <td>1.0</td>\n",
       "      <td>0</td>\n",
       "      <td>0</td>\n",
       "      <td>0</td>\n",
       "      <td>1</td>\n",
       "    </tr>\n",
       "    <tr>\n",
       "      <th>4</th>\n",
       "      <td>0.0</td>\n",
       "      <td>718</td>\n",
       "      <td>950.0</td>\n",
       "      <td>-0.407939</td>\n",
       "      <td>-0.015607</td>\n",
       "      <td>-0.774979</td>\n",
       "      <td>0</td>\n",
       "      <td>0</td>\n",
       "      <td>0</td>\n",
       "      <td>0</td>\n",
       "      <td>0.00339</td>\n",
       "      <td>0.0</td>\n",
       "      <td>0</td>\n",
       "      <td>0.0</td>\n",
       "      <td>0</td>\n",
       "      <td>0</td>\n",
       "      <td>0</td>\n",
       "      <td>0</td>\n",
       "    </tr>\n",
       "  </tbody>\n",
       "</table>\n",
       "</div>"
      ],
      "text/plain": [
       "   Column0  Column1  Column2   Column6   Column7   Column8  Column10  \\\n",
       "0      2.0     2495   3726.0  0.434190 -0.015603  0.606265         0   \n",
       "1      0.0     2495   3454.0  1.554998 -0.015574  0.329946         0   \n",
       "2      2.0     2495   4543.0 -0.407939 -0.015607 -0.774979         1   \n",
       "3      0.0      211     59.0 -0.407939 -0.015607 -0.774979         0   \n",
       "4      0.0      718    950.0 -0.407939 -0.015607 -0.774979         0   \n",
       "\n",
       "   Column11  Column12  Column13  Column15  Column16  Column17  Column18  \\\n",
       "0         0         0         0   0.00339       0.0         0       0.0   \n",
       "1         0         0         0   0.00339       0.0         0       0.0   \n",
       "2         1         1         1   0.00339       0.0         0       0.0   \n",
       "3         0         0         0   0.00339       0.0         0       1.0   \n",
       "4         0         0         0   0.00339       0.0         0       0.0   \n",
       "\n",
       "   Column19  Column20  Column21  target  \n",
       "0         0         0         0       0  \n",
       "1         0         0         0       0  \n",
       "2         0         0         0       0  \n",
       "3         0         0         0       1  \n",
       "4         0         0         0       0  "
      ]
     },
     "execution_count": 175,
     "metadata": {},
     "output_type": "execute_result"
    }
   ],
   "source": [
    "df_new.head()"
   ]
  },
  {
   "cell_type": "code",
   "execution_count": 176,
   "id": "01b0c5ce",
   "metadata": {},
   "outputs": [
    {
     "data": {
      "text/plain": [
       "(768666, 18)"
      ]
     },
     "execution_count": 176,
     "metadata": {},
     "output_type": "execute_result"
    }
   ],
   "source": [
    "df_new.dropna().shape"
   ]
  },
  {
   "cell_type": "code",
   "execution_count": 177,
   "id": "d5b3a8a7",
   "metadata": {},
   "outputs": [],
   "source": [
    "df_new_copy = df_new.copy()"
   ]
  },
  {
   "cell_type": "code",
   "execution_count": 178,
   "id": "cbe40075",
   "metadata": {},
   "outputs": [],
   "source": [
    "df_new = df_new.dropna()"
   ]
  },
  {
   "cell_type": "code",
   "execution_count": 179,
   "id": "b9ad5e5d",
   "metadata": {},
   "outputs": [],
   "source": [
    "df_new_sample = df_new.sample(100000)"
   ]
  },
  {
   "cell_type": "code",
   "execution_count": 180,
   "id": "aaf5f765",
   "metadata": {},
   "outputs": [],
   "source": [
    "from sklearn.decomposition import PCA\n",
    "from sklearn.preprocessing import StandardScaler\n",
    "from sklearn.model_selection import train_test_split"
   ]
  },
  {
   "cell_type": "code",
   "execution_count": 181,
   "id": "aecf7d1f",
   "metadata": {},
   "outputs": [],
   "source": [
    "scaler = StandardScaler()\n",
    "pca = PCA(n_components = 10)"
   ]
  },
  {
   "cell_type": "code",
   "execution_count": 182,
   "id": "e7ac32c9",
   "metadata": {},
   "outputs": [],
   "source": [
    "x = df_new_sample.drop(\"target\", axis = 1)\n",
    "y = df_new_sample['target']"
   ]
  },
  {
   "cell_type": "code",
   "execution_count": 183,
   "id": "9ac0d70e",
   "metadata": {},
   "outputs": [],
   "source": [
    "x_train, x_test, y_train, y_test = train_test_split(x, y, test_size = 0.2, random_state = 88)"
   ]
  },
  {
   "cell_type": "code",
   "execution_count": 184,
   "id": "d3bfd26a",
   "metadata": {},
   "outputs": [
    {
     "data": {
      "text/html": [
       "<style>#sk-container-id-3 {color: black;}#sk-container-id-3 pre{padding: 0;}#sk-container-id-3 div.sk-toggleable {background-color: white;}#sk-container-id-3 label.sk-toggleable__label {cursor: pointer;display: block;width: 100%;margin-bottom: 0;padding: 0.3em;box-sizing: border-box;text-align: center;}#sk-container-id-3 label.sk-toggleable__label-arrow:before {content: \"▸\";float: left;margin-right: 0.25em;color: #696969;}#sk-container-id-3 label.sk-toggleable__label-arrow:hover:before {color: black;}#sk-container-id-3 div.sk-estimator:hover label.sk-toggleable__label-arrow:before {color: black;}#sk-container-id-3 div.sk-toggleable__content {max-height: 0;max-width: 0;overflow: hidden;text-align: left;background-color: #f0f8ff;}#sk-container-id-3 div.sk-toggleable__content pre {margin: 0.2em;color: black;border-radius: 0.25em;background-color: #f0f8ff;}#sk-container-id-3 input.sk-toggleable__control:checked~div.sk-toggleable__content {max-height: 200px;max-width: 100%;overflow: auto;}#sk-container-id-3 input.sk-toggleable__control:checked~label.sk-toggleable__label-arrow:before {content: \"▾\";}#sk-container-id-3 div.sk-estimator input.sk-toggleable__control:checked~label.sk-toggleable__label {background-color: #d4ebff;}#sk-container-id-3 div.sk-label input.sk-toggleable__control:checked~label.sk-toggleable__label {background-color: #d4ebff;}#sk-container-id-3 input.sk-hidden--visually {border: 0;clip: rect(1px 1px 1px 1px);clip: rect(1px, 1px, 1px, 1px);height: 1px;margin: -1px;overflow: hidden;padding: 0;position: absolute;width: 1px;}#sk-container-id-3 div.sk-estimator {font-family: monospace;background-color: #f0f8ff;border: 1px dotted black;border-radius: 0.25em;box-sizing: border-box;margin-bottom: 0.5em;}#sk-container-id-3 div.sk-estimator:hover {background-color: #d4ebff;}#sk-container-id-3 div.sk-parallel-item::after {content: \"\";width: 100%;border-bottom: 1px solid gray;flex-grow: 1;}#sk-container-id-3 div.sk-label:hover label.sk-toggleable__label {background-color: #d4ebff;}#sk-container-id-3 div.sk-serial::before {content: \"\";position: absolute;border-left: 1px solid gray;box-sizing: border-box;top: 0;bottom: 0;left: 50%;z-index: 0;}#sk-container-id-3 div.sk-serial {display: flex;flex-direction: column;align-items: center;background-color: white;padding-right: 0.2em;padding-left: 0.2em;position: relative;}#sk-container-id-3 div.sk-item {position: relative;z-index: 1;}#sk-container-id-3 div.sk-parallel {display: flex;align-items: stretch;justify-content: center;background-color: white;position: relative;}#sk-container-id-3 div.sk-item::before, #sk-container-id-3 div.sk-parallel-item::before {content: \"\";position: absolute;border-left: 1px solid gray;box-sizing: border-box;top: 0;bottom: 0;left: 50%;z-index: -1;}#sk-container-id-3 div.sk-parallel-item {display: flex;flex-direction: column;z-index: 1;position: relative;background-color: white;}#sk-container-id-3 div.sk-parallel-item:first-child::after {align-self: flex-end;width: 50%;}#sk-container-id-3 div.sk-parallel-item:last-child::after {align-self: flex-start;width: 50%;}#sk-container-id-3 div.sk-parallel-item:only-child::after {width: 0;}#sk-container-id-3 div.sk-dashed-wrapped {border: 1px dashed gray;margin: 0 0.4em 0.5em 0.4em;box-sizing: border-box;padding-bottom: 0.4em;background-color: white;}#sk-container-id-3 div.sk-label label {font-family: monospace;font-weight: bold;display: inline-block;line-height: 1.2em;}#sk-container-id-3 div.sk-label-container {text-align: center;}#sk-container-id-3 div.sk-container {/* jupyter's `normalize.less` sets `[hidden] { display: none; }` but bootstrap.min.css set `[hidden] { display: none !important; }` so we also need the `!important` here to be able to override the default hidden behavior on the sphinx rendered scikit-learn.org. See: https://github.com/scikit-learn/scikit-learn/issues/21755 */display: inline-block !important;position: relative;}#sk-container-id-3 div.sk-text-repr-fallback {display: none;}</style><div id=\"sk-container-id-3\" class=\"sk-top-container\"><div class=\"sk-text-repr-fallback\"><pre>StandardScaler()</pre><b>In a Jupyter environment, please rerun this cell to show the HTML representation or trust the notebook. <br />On GitHub, the HTML representation is unable to render, please try loading this page with nbviewer.org.</b></div><div class=\"sk-container\" hidden><div class=\"sk-item\"><div class=\"sk-estimator sk-toggleable\"><input class=\"sk-toggleable__control sk-hidden--visually\" id=\"sk-estimator-id-3\" type=\"checkbox\" checked><label for=\"sk-estimator-id-3\" class=\"sk-toggleable__label sk-toggleable__label-arrow\">StandardScaler</label><div class=\"sk-toggleable__content\"><pre>StandardScaler()</pre></div></div></div></div></div>"
      ],
      "text/plain": [
       "StandardScaler()"
      ]
     },
     "execution_count": 184,
     "metadata": {},
     "output_type": "execute_result"
    }
   ],
   "source": [
    "scaler.fit(x_train)"
   ]
  },
  {
   "cell_type": "code",
   "execution_count": 185,
   "id": "13af48f7",
   "metadata": {},
   "outputs": [],
   "source": [
    "x_train_scaled = scaler.transform(x_train)\n",
    "x_test_scaled = scaler.transform(x_test)"
   ]
  },
  {
   "cell_type": "code",
   "execution_count": 186,
   "id": "e1d72ab3",
   "metadata": {},
   "outputs": [],
   "source": [
    "x_train_pca = pca.fit_transform(x_train_scaled)"
   ]
  },
  {
   "cell_type": "code",
   "execution_count": 187,
   "id": "bd3d999b",
   "metadata": {},
   "outputs": [],
   "source": [
    "x_test_pca = pca.transform(x_test_scaled)"
   ]
  },
  {
   "cell_type": "code",
   "execution_count": 188,
   "id": "960f625d",
   "metadata": {},
   "outputs": [],
   "source": [
    "from sklearn.linear_model import LogisticRegression"
   ]
  },
  {
   "cell_type": "code",
   "execution_count": 189,
   "id": "02fae592",
   "metadata": {},
   "outputs": [],
   "source": [
    "model = LogisticRegression()"
   ]
  },
  {
   "cell_type": "code",
   "execution_count": 190,
   "id": "0cb9715c",
   "metadata": {},
   "outputs": [
    {
     "data": {
      "text/html": [
       "<style>#sk-container-id-4 {color: black;}#sk-container-id-4 pre{padding: 0;}#sk-container-id-4 div.sk-toggleable {background-color: white;}#sk-container-id-4 label.sk-toggleable__label {cursor: pointer;display: block;width: 100%;margin-bottom: 0;padding: 0.3em;box-sizing: border-box;text-align: center;}#sk-container-id-4 label.sk-toggleable__label-arrow:before {content: \"▸\";float: left;margin-right: 0.25em;color: #696969;}#sk-container-id-4 label.sk-toggleable__label-arrow:hover:before {color: black;}#sk-container-id-4 div.sk-estimator:hover label.sk-toggleable__label-arrow:before {color: black;}#sk-container-id-4 div.sk-toggleable__content {max-height: 0;max-width: 0;overflow: hidden;text-align: left;background-color: #f0f8ff;}#sk-container-id-4 div.sk-toggleable__content pre {margin: 0.2em;color: black;border-radius: 0.25em;background-color: #f0f8ff;}#sk-container-id-4 input.sk-toggleable__control:checked~div.sk-toggleable__content {max-height: 200px;max-width: 100%;overflow: auto;}#sk-container-id-4 input.sk-toggleable__control:checked~label.sk-toggleable__label-arrow:before {content: \"▾\";}#sk-container-id-4 div.sk-estimator input.sk-toggleable__control:checked~label.sk-toggleable__label {background-color: #d4ebff;}#sk-container-id-4 div.sk-label input.sk-toggleable__control:checked~label.sk-toggleable__label {background-color: #d4ebff;}#sk-container-id-4 input.sk-hidden--visually {border: 0;clip: rect(1px 1px 1px 1px);clip: rect(1px, 1px, 1px, 1px);height: 1px;margin: -1px;overflow: hidden;padding: 0;position: absolute;width: 1px;}#sk-container-id-4 div.sk-estimator {font-family: monospace;background-color: #f0f8ff;border: 1px dotted black;border-radius: 0.25em;box-sizing: border-box;margin-bottom: 0.5em;}#sk-container-id-4 div.sk-estimator:hover {background-color: #d4ebff;}#sk-container-id-4 div.sk-parallel-item::after {content: \"\";width: 100%;border-bottom: 1px solid gray;flex-grow: 1;}#sk-container-id-4 div.sk-label:hover label.sk-toggleable__label {background-color: #d4ebff;}#sk-container-id-4 div.sk-serial::before {content: \"\";position: absolute;border-left: 1px solid gray;box-sizing: border-box;top: 0;bottom: 0;left: 50%;z-index: 0;}#sk-container-id-4 div.sk-serial {display: flex;flex-direction: column;align-items: center;background-color: white;padding-right: 0.2em;padding-left: 0.2em;position: relative;}#sk-container-id-4 div.sk-item {position: relative;z-index: 1;}#sk-container-id-4 div.sk-parallel {display: flex;align-items: stretch;justify-content: center;background-color: white;position: relative;}#sk-container-id-4 div.sk-item::before, #sk-container-id-4 div.sk-parallel-item::before {content: \"\";position: absolute;border-left: 1px solid gray;box-sizing: border-box;top: 0;bottom: 0;left: 50%;z-index: -1;}#sk-container-id-4 div.sk-parallel-item {display: flex;flex-direction: column;z-index: 1;position: relative;background-color: white;}#sk-container-id-4 div.sk-parallel-item:first-child::after {align-self: flex-end;width: 50%;}#sk-container-id-4 div.sk-parallel-item:last-child::after {align-self: flex-start;width: 50%;}#sk-container-id-4 div.sk-parallel-item:only-child::after {width: 0;}#sk-container-id-4 div.sk-dashed-wrapped {border: 1px dashed gray;margin: 0 0.4em 0.5em 0.4em;box-sizing: border-box;padding-bottom: 0.4em;background-color: white;}#sk-container-id-4 div.sk-label label {font-family: monospace;font-weight: bold;display: inline-block;line-height: 1.2em;}#sk-container-id-4 div.sk-label-container {text-align: center;}#sk-container-id-4 div.sk-container {/* jupyter's `normalize.less` sets `[hidden] { display: none; }` but bootstrap.min.css set `[hidden] { display: none !important; }` so we also need the `!important` here to be able to override the default hidden behavior on the sphinx rendered scikit-learn.org. See: https://github.com/scikit-learn/scikit-learn/issues/21755 */display: inline-block !important;position: relative;}#sk-container-id-4 div.sk-text-repr-fallback {display: none;}</style><div id=\"sk-container-id-4\" class=\"sk-top-container\"><div class=\"sk-text-repr-fallback\"><pre>LogisticRegression()</pre><b>In a Jupyter environment, please rerun this cell to show the HTML representation or trust the notebook. <br />On GitHub, the HTML representation is unable to render, please try loading this page with nbviewer.org.</b></div><div class=\"sk-container\" hidden><div class=\"sk-item\"><div class=\"sk-estimator sk-toggleable\"><input class=\"sk-toggleable__control sk-hidden--visually\" id=\"sk-estimator-id-4\" type=\"checkbox\" checked><label for=\"sk-estimator-id-4\" class=\"sk-toggleable__label sk-toggleable__label-arrow\">LogisticRegression</label><div class=\"sk-toggleable__content\"><pre>LogisticRegression()</pre></div></div></div></div></div>"
      ],
      "text/plain": [
       "LogisticRegression()"
      ]
     },
     "execution_count": 190,
     "metadata": {},
     "output_type": "execute_result"
    }
   ],
   "source": [
    "model.fit(x_train_pca, y_train)"
   ]
  },
  {
   "cell_type": "code",
   "execution_count": 191,
   "id": "7db3bdf9",
   "metadata": {},
   "outputs": [],
   "source": [
    "y_pred = model.predict(x_test_pca)"
   ]
  },
  {
   "cell_type": "code",
   "execution_count": 192,
   "id": "09909452",
   "metadata": {},
   "outputs": [],
   "source": [
    "from sklearn.metrics import accuracy_score"
   ]
  },
  {
   "cell_type": "code",
   "execution_count": 193,
   "id": "d289b42c",
   "metadata": {},
   "outputs": [
    {
     "data": {
      "text/plain": [
       "0.9678"
      ]
     },
     "execution_count": 193,
     "metadata": {},
     "output_type": "execute_result"
    }
   ],
   "source": [
    "accuracy_score(y_pred, y_test)"
   ]
  },
  {
   "cell_type": "code",
   "execution_count": 194,
   "id": "7ff23a6c",
   "metadata": {},
   "outputs": [
    {
     "data": {
      "text/plain": [
       "0.9678"
      ]
     },
     "execution_count": 194,
     "metadata": {},
     "output_type": "execute_result"
    }
   ],
   "source": [
    "accuracy_score(y_test, y_pred)"
   ]
  },
  {
   "cell_type": "code",
   "execution_count": null,
   "id": "bfa18b86",
   "metadata": {},
   "outputs": [],
   "source": []
  },
  {
   "cell_type": "code",
   "execution_count": null,
   "id": "e9319196",
   "metadata": {},
   "outputs": [],
   "source": []
  },
  {
   "cell_type": "code",
   "execution_count": null,
   "id": "a35eacbb",
   "metadata": {},
   "outputs": [],
   "source": []
  },
  {
   "cell_type": "code",
   "execution_count": null,
   "id": "dbbbd7e2",
   "metadata": {},
   "outputs": [],
   "source": []
  },
  {
   "cell_type": "code",
   "execution_count": null,
   "id": "daea1ce7",
   "metadata": {},
   "outputs": [],
   "source": []
  },
  {
   "cell_type": "code",
   "execution_count": null,
   "id": "f1f94dd8",
   "metadata": {},
   "outputs": [],
   "source": []
  },
  {
   "cell_type": "code",
   "execution_count": null,
   "id": "54cb5c14",
   "metadata": {},
   "outputs": [],
   "source": []
  },
  {
   "cell_type": "code",
   "execution_count": null,
   "id": "caf3b332",
   "metadata": {},
   "outputs": [],
   "source": []
  },
  {
   "cell_type": "code",
   "execution_count": 330,
   "id": "2ab97727",
   "metadata": {},
   "outputs": [],
   "source": [
    "df_copy_ = df.copy()"
   ]
  },
  {
   "cell_type": "code",
   "execution_count": null,
   "id": "939b87ee",
   "metadata": {},
   "outputs": [],
   "source": []
  },
  {
   "cell_type": "code",
   "execution_count": 294,
   "id": "46d4f7fd",
   "metadata": {},
   "outputs": [],
   "source": [
    "def unique_values(df):\n",
    "    for i in df.columns:\n",
    "        print(f\"Unique Values of {i} : \")\n",
    "        print(df[i].unique())\n",
    "        print(f\"Number of unique values : {df[i].nunique()}\")\n",
    "#         print(df[i].nunique())\n",
    "        print(\"--------------------------------------------------------------------------------------\")"
   ]
  },
  {
   "cell_type": "code",
   "execution_count": 272,
   "id": "9ff9b665",
   "metadata": {},
   "outputs": [],
   "source": [
    "from sklearn.compose import ColumnTransformer"
   ]
  },
  {
   "cell_type": "code",
   "execution_count": 273,
   "id": "535f4cbe",
   "metadata": {},
   "outputs": [
    {
     "data": {
      "text/html": [
       "<div>\n",
       "<style scoped>\n",
       "    .dataframe tbody tr th:only-of-type {\n",
       "        vertical-align: middle;\n",
       "    }\n",
       "\n",
       "    .dataframe tbody tr th {\n",
       "        vertical-align: top;\n",
       "    }\n",
       "\n",
       "    .dataframe thead th {\n",
       "        text-align: right;\n",
       "    }\n",
       "</style>\n",
       "<table border=\"1\" class=\"dataframe\">\n",
       "  <thead>\n",
       "    <tr style=\"text-align: right;\">\n",
       "      <th></th>\n",
       "      <th>Column0</th>\n",
       "      <th>Column1</th>\n",
       "      <th>Column2</th>\n",
       "      <th>Column3</th>\n",
       "      <th>Column4</th>\n",
       "      <th>Column5</th>\n",
       "      <th>Column6</th>\n",
       "      <th>Column7</th>\n",
       "      <th>Column8</th>\n",
       "      <th>Column9</th>\n",
       "      <th>...</th>\n",
       "      <th>Column13</th>\n",
       "      <th>Column14</th>\n",
       "      <th>Column15</th>\n",
       "      <th>Column16</th>\n",
       "      <th>Column17</th>\n",
       "      <th>Column18</th>\n",
       "      <th>Column19</th>\n",
       "      <th>Column20</th>\n",
       "      <th>Column21</th>\n",
       "      <th>target</th>\n",
       "    </tr>\n",
       "  </thead>\n",
       "  <tbody>\n",
       "    <tr>\n",
       "      <th>0</th>\n",
       "      <td>2.0</td>\n",
       "      <td>2495</td>\n",
       "      <td>3726.0</td>\n",
       "      <td>0.678139</td>\n",
       "      <td>0.701403</td>\n",
       "      <td>-0.007468</td>\n",
       "      <td>0.434190</td>\n",
       "      <td>-0.015603</td>\n",
       "      <td>0.606265</td>\n",
       "      <td>NaN</td>\n",
       "      <td>...</td>\n",
       "      <td>0</td>\n",
       "      <td>0.001351</td>\n",
       "      <td>0.00339</td>\n",
       "      <td>0.0</td>\n",
       "      <td>0</td>\n",
       "      <td>0.0</td>\n",
       "      <td>0</td>\n",
       "      <td>0</td>\n",
       "      <td>0</td>\n",
       "      <td>0</td>\n",
       "    </tr>\n",
       "    <tr>\n",
       "      <th>1</th>\n",
       "      <td>0.0</td>\n",
       "      <td>2495</td>\n",
       "      <td>3454.0</td>\n",
       "      <td>0.452580</td>\n",
       "      <td>0.701403</td>\n",
       "      <td>-0.007468</td>\n",
       "      <td>1.554998</td>\n",
       "      <td>-0.015574</td>\n",
       "      <td>0.329946</td>\n",
       "      <td>NaN</td>\n",
       "      <td>...</td>\n",
       "      <td>0</td>\n",
       "      <td>0.001351</td>\n",
       "      <td>0.00339</td>\n",
       "      <td>0.0</td>\n",
       "      <td>0</td>\n",
       "      <td>0.0</td>\n",
       "      <td>0</td>\n",
       "      <td>0</td>\n",
       "      <td>0</td>\n",
       "      <td>0</td>\n",
       "    </tr>\n",
       "    <tr>\n",
       "      <th>2</th>\n",
       "      <td>2.0</td>\n",
       "      <td>2495</td>\n",
       "      <td>4543.0</td>\n",
       "      <td>-1.577453</td>\n",
       "      <td>-1.429540</td>\n",
       "      <td>-0.007469</td>\n",
       "      <td>-0.407939</td>\n",
       "      <td>-0.015607</td>\n",
       "      <td>-0.774979</td>\n",
       "      <td>NaN</td>\n",
       "      <td>...</td>\n",
       "      <td>1</td>\n",
       "      <td>0.001351</td>\n",
       "      <td>0.00339</td>\n",
       "      <td>0.0</td>\n",
       "      <td>0</td>\n",
       "      <td>0.0</td>\n",
       "      <td>0</td>\n",
       "      <td>0</td>\n",
       "      <td>0</td>\n",
       "      <td>0</td>\n",
       "    </tr>\n",
       "    <tr>\n",
       "      <th>3</th>\n",
       "      <td>0.0</td>\n",
       "      <td>211</td>\n",
       "      <td>59.0</td>\n",
       "      <td>NaN</td>\n",
       "      <td>NaN</td>\n",
       "      <td>NaN</td>\n",
       "      <td>-0.407939</td>\n",
       "      <td>-0.015607</td>\n",
       "      <td>-0.774979</td>\n",
       "      <td>NaN</td>\n",
       "      <td>...</td>\n",
       "      <td>0</td>\n",
       "      <td>NaN</td>\n",
       "      <td>0.00339</td>\n",
       "      <td>0.0</td>\n",
       "      <td>0</td>\n",
       "      <td>1.0</td>\n",
       "      <td>0</td>\n",
       "      <td>0</td>\n",
       "      <td>0</td>\n",
       "      <td>1</td>\n",
       "    </tr>\n",
       "    <tr>\n",
       "      <th>4</th>\n",
       "      <td>0.0</td>\n",
       "      <td>718</td>\n",
       "      <td>950.0</td>\n",
       "      <td>-2.028572</td>\n",
       "      <td>-1.855728</td>\n",
       "      <td>NaN</td>\n",
       "      <td>-0.407939</td>\n",
       "      <td>-0.015607</td>\n",
       "      <td>-0.774979</td>\n",
       "      <td>NaN</td>\n",
       "      <td>...</td>\n",
       "      <td>0</td>\n",
       "      <td>NaN</td>\n",
       "      <td>0.00339</td>\n",
       "      <td>0.0</td>\n",
       "      <td>0</td>\n",
       "      <td>0.0</td>\n",
       "      <td>0</td>\n",
       "      <td>0</td>\n",
       "      <td>0</td>\n",
       "      <td>0</td>\n",
       "    </tr>\n",
       "  </tbody>\n",
       "</table>\n",
       "<p>5 rows × 23 columns</p>\n",
       "</div>"
      ],
      "text/plain": [
       "   Column0  Column1  Column2   Column3   Column4   Column5   Column6  \\\n",
       "0      2.0     2495   3726.0  0.678139  0.701403 -0.007468  0.434190   \n",
       "1      0.0     2495   3454.0  0.452580  0.701403 -0.007468  1.554998   \n",
       "2      2.0     2495   4543.0 -1.577453 -1.429540 -0.007469 -0.407939   \n",
       "3      0.0      211     59.0       NaN       NaN       NaN -0.407939   \n",
       "4      0.0      718    950.0 -2.028572 -1.855728       NaN -0.407939   \n",
       "\n",
       "    Column7   Column8  Column9  ...  Column13  Column14  Column15  Column16  \\\n",
       "0 -0.015603  0.606265      NaN  ...         0  0.001351   0.00339       0.0   \n",
       "1 -0.015574  0.329946      NaN  ...         0  0.001351   0.00339       0.0   \n",
       "2 -0.015607 -0.774979      NaN  ...         1  0.001351   0.00339       0.0   \n",
       "3 -0.015607 -0.774979      NaN  ...         0       NaN   0.00339       0.0   \n",
       "4 -0.015607 -0.774979      NaN  ...         0       NaN   0.00339       0.0   \n",
       "\n",
       "   Column17  Column18  Column19  Column20  Column21  target  \n",
       "0         0       0.0         0         0         0       0  \n",
       "1         0       0.0         0         0         0       0  \n",
       "2         0       0.0         0         0         0       0  \n",
       "3         0       1.0         0         0         0       1  \n",
       "4         0       0.0         0         0         0       0  \n",
       "\n",
       "[5 rows x 23 columns]"
      ]
     },
     "execution_count": 273,
     "metadata": {},
     "output_type": "execute_result"
    }
   ],
   "source": [
    "df.head()"
   ]
  },
  {
   "cell_type": "code",
   "execution_count": 331,
   "id": "5dbe53de",
   "metadata": {},
   "outputs": [],
   "source": [
    "def drop(df):\n",
    "    df = df.drop(df.columns[[0,10]], axis = 1)\n",
    "    return df"
   ]
  },
  {
   "cell_type": "code",
   "execution_count": 332,
   "id": "447dd244",
   "metadata": {},
   "outputs": [],
   "source": [
    "df1_new = drop(df)"
   ]
  },
  {
   "cell_type": "code",
   "execution_count": 333,
   "id": "615bcdf8",
   "metadata": {},
   "outputs": [
    {
     "data": {
      "text/html": [
       "<div>\n",
       "<style scoped>\n",
       "    .dataframe tbody tr th:only-of-type {\n",
       "        vertical-align: middle;\n",
       "    }\n",
       "\n",
       "    .dataframe tbody tr th {\n",
       "        vertical-align: top;\n",
       "    }\n",
       "\n",
       "    .dataframe thead th {\n",
       "        text-align: right;\n",
       "    }\n",
       "</style>\n",
       "<table border=\"1\" class=\"dataframe\">\n",
       "  <thead>\n",
       "    <tr style=\"text-align: right;\">\n",
       "      <th></th>\n",
       "      <th>Column0</th>\n",
       "      <th>Column1</th>\n",
       "      <th>Column2</th>\n",
       "      <th>Column3</th>\n",
       "      <th>Column4</th>\n",
       "      <th>Column5</th>\n",
       "      <th>Column6</th>\n",
       "      <th>Column7</th>\n",
       "      <th>Column8</th>\n",
       "      <th>Column10</th>\n",
       "      <th>...</th>\n",
       "      <th>Column13</th>\n",
       "      <th>Column14</th>\n",
       "      <th>Column15</th>\n",
       "      <th>Column16</th>\n",
       "      <th>Column17</th>\n",
       "      <th>Column18</th>\n",
       "      <th>Column19</th>\n",
       "      <th>Column20</th>\n",
       "      <th>Column21</th>\n",
       "      <th>target</th>\n",
       "    </tr>\n",
       "  </thead>\n",
       "  <tbody>\n",
       "    <tr>\n",
       "      <th>0</th>\n",
       "      <td>2.0</td>\n",
       "      <td>2495</td>\n",
       "      <td>3726.0</td>\n",
       "      <td>0.678139</td>\n",
       "      <td>0.701403</td>\n",
       "      <td>-0.007468</td>\n",
       "      <td>0.434190</td>\n",
       "      <td>-0.015603</td>\n",
       "      <td>0.606265</td>\n",
       "      <td>0</td>\n",
       "      <td>...</td>\n",
       "      <td>0</td>\n",
       "      <td>0.001351</td>\n",
       "      <td>0.00339</td>\n",
       "      <td>0.0</td>\n",
       "      <td>0</td>\n",
       "      <td>0.0</td>\n",
       "      <td>0</td>\n",
       "      <td>0</td>\n",
       "      <td>0</td>\n",
       "      <td>0</td>\n",
       "    </tr>\n",
       "    <tr>\n",
       "      <th>1</th>\n",
       "      <td>0.0</td>\n",
       "      <td>2495</td>\n",
       "      <td>3454.0</td>\n",
       "      <td>0.452580</td>\n",
       "      <td>0.701403</td>\n",
       "      <td>-0.007468</td>\n",
       "      <td>1.554998</td>\n",
       "      <td>-0.015574</td>\n",
       "      <td>0.329946</td>\n",
       "      <td>0</td>\n",
       "      <td>...</td>\n",
       "      <td>0</td>\n",
       "      <td>0.001351</td>\n",
       "      <td>0.00339</td>\n",
       "      <td>0.0</td>\n",
       "      <td>0</td>\n",
       "      <td>0.0</td>\n",
       "      <td>0</td>\n",
       "      <td>0</td>\n",
       "      <td>0</td>\n",
       "      <td>0</td>\n",
       "    </tr>\n",
       "    <tr>\n",
       "      <th>2</th>\n",
       "      <td>2.0</td>\n",
       "      <td>2495</td>\n",
       "      <td>4543.0</td>\n",
       "      <td>-1.577453</td>\n",
       "      <td>-1.429540</td>\n",
       "      <td>-0.007469</td>\n",
       "      <td>-0.407939</td>\n",
       "      <td>-0.015607</td>\n",
       "      <td>-0.774979</td>\n",
       "      <td>1</td>\n",
       "      <td>...</td>\n",
       "      <td>1</td>\n",
       "      <td>0.001351</td>\n",
       "      <td>0.00339</td>\n",
       "      <td>0.0</td>\n",
       "      <td>0</td>\n",
       "      <td>0.0</td>\n",
       "      <td>0</td>\n",
       "      <td>0</td>\n",
       "      <td>0</td>\n",
       "      <td>0</td>\n",
       "    </tr>\n",
       "    <tr>\n",
       "      <th>3</th>\n",
       "      <td>0.0</td>\n",
       "      <td>211</td>\n",
       "      <td>59.0</td>\n",
       "      <td>NaN</td>\n",
       "      <td>NaN</td>\n",
       "      <td>NaN</td>\n",
       "      <td>-0.407939</td>\n",
       "      <td>-0.015607</td>\n",
       "      <td>-0.774979</td>\n",
       "      <td>0</td>\n",
       "      <td>...</td>\n",
       "      <td>0</td>\n",
       "      <td>NaN</td>\n",
       "      <td>0.00339</td>\n",
       "      <td>0.0</td>\n",
       "      <td>0</td>\n",
       "      <td>1.0</td>\n",
       "      <td>0</td>\n",
       "      <td>0</td>\n",
       "      <td>0</td>\n",
       "      <td>1</td>\n",
       "    </tr>\n",
       "    <tr>\n",
       "      <th>4</th>\n",
       "      <td>0.0</td>\n",
       "      <td>718</td>\n",
       "      <td>950.0</td>\n",
       "      <td>-2.028572</td>\n",
       "      <td>-1.855728</td>\n",
       "      <td>NaN</td>\n",
       "      <td>-0.407939</td>\n",
       "      <td>-0.015607</td>\n",
       "      <td>-0.774979</td>\n",
       "      <td>0</td>\n",
       "      <td>...</td>\n",
       "      <td>0</td>\n",
       "      <td>NaN</td>\n",
       "      <td>0.00339</td>\n",
       "      <td>0.0</td>\n",
       "      <td>0</td>\n",
       "      <td>0.0</td>\n",
       "      <td>0</td>\n",
       "      <td>0</td>\n",
       "      <td>0</td>\n",
       "      <td>0</td>\n",
       "    </tr>\n",
       "    <tr>\n",
       "      <th>...</th>\n",
       "      <td>...</td>\n",
       "      <td>...</td>\n",
       "      <td>...</td>\n",
       "      <td>...</td>\n",
       "      <td>...</td>\n",
       "      <td>...</td>\n",
       "      <td>...</td>\n",
       "      <td>...</td>\n",
       "      <td>...</td>\n",
       "      <td>...</td>\n",
       "      <td>...</td>\n",
       "      <td>...</td>\n",
       "      <td>...</td>\n",
       "      <td>...</td>\n",
       "      <td>...</td>\n",
       "      <td>...</td>\n",
       "      <td>...</td>\n",
       "      <td>...</td>\n",
       "      <td>...</td>\n",
       "      <td>...</td>\n",
       "      <td>...</td>\n",
       "    </tr>\n",
       "    <tr>\n",
       "      <th>785128</th>\n",
       "      <td>0.0</td>\n",
       "      <td>304</td>\n",
       "      <td>1126.0</td>\n",
       "      <td>0.678139</td>\n",
       "      <td>0.701403</td>\n",
       "      <td>-0.007469</td>\n",
       "      <td>-0.407939</td>\n",
       "      <td>-0.015607</td>\n",
       "      <td>-0.774979</td>\n",
       "      <td>0</td>\n",
       "      <td>...</td>\n",
       "      <td>0</td>\n",
       "      <td>NaN</td>\n",
       "      <td>0.00339</td>\n",
       "      <td>0.0</td>\n",
       "      <td>0</td>\n",
       "      <td>1.0</td>\n",
       "      <td>0</td>\n",
       "      <td>0</td>\n",
       "      <td>0</td>\n",
       "      <td>0</td>\n",
       "    </tr>\n",
       "    <tr>\n",
       "      <th>785129</th>\n",
       "      <td>0.0</td>\n",
       "      <td>2495</td>\n",
       "      <td>2265.0</td>\n",
       "      <td>0.678139</td>\n",
       "      <td>0.701403</td>\n",
       "      <td>-0.007468</td>\n",
       "      <td>-0.407939</td>\n",
       "      <td>-0.015607</td>\n",
       "      <td>0.509591</td>\n",
       "      <td>1</td>\n",
       "      <td>...</td>\n",
       "      <td>1</td>\n",
       "      <td>0.001351</td>\n",
       "      <td>0.00339</td>\n",
       "      <td>0.0</td>\n",
       "      <td>0</td>\n",
       "      <td>0.0</td>\n",
       "      <td>0</td>\n",
       "      <td>0</td>\n",
       "      <td>0</td>\n",
       "      <td>0</td>\n",
       "    </tr>\n",
       "    <tr>\n",
       "      <th>785130</th>\n",
       "      <td>0.0</td>\n",
       "      <td>2495</td>\n",
       "      <td>3760.0</td>\n",
       "      <td>0.678139</td>\n",
       "      <td>0.701403</td>\n",
       "      <td>-0.007469</td>\n",
       "      <td>-0.407939</td>\n",
       "      <td>-0.015607</td>\n",
       "      <td>0.218972</td>\n",
       "      <td>0</td>\n",
       "      <td>...</td>\n",
       "      <td>1</td>\n",
       "      <td>0.001351</td>\n",
       "      <td>0.00339</td>\n",
       "      <td>0.0</td>\n",
       "      <td>0</td>\n",
       "      <td>0.0</td>\n",
       "      <td>0</td>\n",
       "      <td>0</td>\n",
       "      <td>0</td>\n",
       "      <td>0</td>\n",
       "    </tr>\n",
       "    <tr>\n",
       "      <th>785131</th>\n",
       "      <td>0.0</td>\n",
       "      <td>2480</td>\n",
       "      <td>4493.0</td>\n",
       "      <td>0.001462</td>\n",
       "      <td>0.062121</td>\n",
       "      <td>-0.007468</td>\n",
       "      <td>-0.407939</td>\n",
       "      <td>-0.015607</td>\n",
       "      <td>0.400071</td>\n",
       "      <td>1</td>\n",
       "      <td>...</td>\n",
       "      <td>1</td>\n",
       "      <td>0.001351</td>\n",
       "      <td>0.00339</td>\n",
       "      <td>0.0</td>\n",
       "      <td>0</td>\n",
       "      <td>0.0</td>\n",
       "      <td>0</td>\n",
       "      <td>0</td>\n",
       "      <td>0</td>\n",
       "      <td>0</td>\n",
       "    </tr>\n",
       "    <tr>\n",
       "      <th>785132</th>\n",
       "      <td>0.0</td>\n",
       "      <td>2495</td>\n",
       "      <td>4202.0</td>\n",
       "      <td>0.678139</td>\n",
       "      <td>0.701403</td>\n",
       "      <td>-0.007467</td>\n",
       "      <td>3.440511</td>\n",
       "      <td>-0.015603</td>\n",
       "      <td>0.471097</td>\n",
       "      <td>0</td>\n",
       "      <td>...</td>\n",
       "      <td>0</td>\n",
       "      <td>NaN</td>\n",
       "      <td>0.00339</td>\n",
       "      <td>0.0</td>\n",
       "      <td>0</td>\n",
       "      <td>0.0</td>\n",
       "      <td>0</td>\n",
       "      <td>0</td>\n",
       "      <td>0</td>\n",
       "      <td>0</td>\n",
       "    </tr>\n",
       "  </tbody>\n",
       "</table>\n",
       "<p>785133 rows × 22 columns</p>\n",
       "</div>"
      ],
      "text/plain": [
       "        Column0  Column1  Column2   Column3   Column4   Column5   Column6  \\\n",
       "0           2.0     2495   3726.0  0.678139  0.701403 -0.007468  0.434190   \n",
       "1           0.0     2495   3454.0  0.452580  0.701403 -0.007468  1.554998   \n",
       "2           2.0     2495   4543.0 -1.577453 -1.429540 -0.007469 -0.407939   \n",
       "3           0.0      211     59.0       NaN       NaN       NaN -0.407939   \n",
       "4           0.0      718    950.0 -2.028572 -1.855728       NaN -0.407939   \n",
       "...         ...      ...      ...       ...       ...       ...       ...   \n",
       "785128      0.0      304   1126.0  0.678139  0.701403 -0.007469 -0.407939   \n",
       "785129      0.0     2495   2265.0  0.678139  0.701403 -0.007468 -0.407939   \n",
       "785130      0.0     2495   3760.0  0.678139  0.701403 -0.007469 -0.407939   \n",
       "785131      0.0     2480   4493.0  0.001462  0.062121 -0.007468 -0.407939   \n",
       "785132      0.0     2495   4202.0  0.678139  0.701403 -0.007467  3.440511   \n",
       "\n",
       "         Column7   Column8  Column10  ...  Column13  Column14  Column15  \\\n",
       "0      -0.015603  0.606265         0  ...         0  0.001351   0.00339   \n",
       "1      -0.015574  0.329946         0  ...         0  0.001351   0.00339   \n",
       "2      -0.015607 -0.774979         1  ...         1  0.001351   0.00339   \n",
       "3      -0.015607 -0.774979         0  ...         0       NaN   0.00339   \n",
       "4      -0.015607 -0.774979         0  ...         0       NaN   0.00339   \n",
       "...          ...       ...       ...  ...       ...       ...       ...   \n",
       "785128 -0.015607 -0.774979         0  ...         0       NaN   0.00339   \n",
       "785129 -0.015607  0.509591         1  ...         1  0.001351   0.00339   \n",
       "785130 -0.015607  0.218972         0  ...         1  0.001351   0.00339   \n",
       "785131 -0.015607  0.400071         1  ...         1  0.001351   0.00339   \n",
       "785132 -0.015603  0.471097         0  ...         0       NaN   0.00339   \n",
       "\n",
       "        Column16  Column17  Column18  Column19  Column20  Column21  target  \n",
       "0            0.0         0       0.0         0         0         0       0  \n",
       "1            0.0         0       0.0         0         0         0       0  \n",
       "2            0.0         0       0.0         0         0         0       0  \n",
       "3            0.0         0       1.0         0         0         0       1  \n",
       "4            0.0         0       0.0         0         0         0       0  \n",
       "...          ...       ...       ...       ...       ...       ...     ...  \n",
       "785128       0.0         0       1.0         0         0         0       0  \n",
       "785129       0.0         0       0.0         0         0         0       0  \n",
       "785130       0.0         0       0.0         0         0         0       0  \n",
       "785131       0.0         0       0.0         0         0         0       0  \n",
       "785132       0.0         0       0.0         0         0         0       0  \n",
       "\n",
       "[785133 rows x 22 columns]"
      ]
     },
     "execution_count": 333,
     "metadata": {},
     "output_type": "execute_result"
    }
   ],
   "source": [
    "df1_new"
   ]
  },
  {
   "cell_type": "code",
   "execution_count": 334,
   "id": "2bfde059",
   "metadata": {},
   "outputs": [
    {
     "data": {
      "text/plain": [
       "Column0          9\n",
       "Column1          0\n",
       "Column2          0\n",
       "Column3     126303\n",
       "Column4     127710\n",
       "Column5     167180\n",
       "Column6       3850\n",
       "Column7          0\n",
       "Column8       3850\n",
       "Column10         0\n",
       "Column11         0\n",
       "Column12         0\n",
       "Column13         0\n",
       "Column14    365703\n",
       "Column15     16456\n",
       "Column16         0\n",
       "Column17         0\n",
       "Column18         0\n",
       "Column19         0\n",
       "Column20         0\n",
       "Column21         0\n",
       "target           0\n",
       "dtype: int64"
      ]
     },
     "execution_count": 334,
     "metadata": {},
     "output_type": "execute_result"
    }
   ],
   "source": [
    "# df1_new.info()\n",
    "# df1_new.isnull().sum().sum()\n",
    "df1_new.isnull().sum()"
   ]
  },
  {
   "cell_type": "code",
   "execution_count": 335,
   "id": "f0e23739",
   "metadata": {},
   "outputs": [
    {
     "data": {
      "text/html": [
       "<div>\n",
       "<style scoped>\n",
       "    .dataframe tbody tr th:only-of-type {\n",
       "        vertical-align: middle;\n",
       "    }\n",
       "\n",
       "    .dataframe tbody tr th {\n",
       "        vertical-align: top;\n",
       "    }\n",
       "\n",
       "    .dataframe thead th {\n",
       "        text-align: right;\n",
       "    }\n",
       "</style>\n",
       "<table border=\"1\" class=\"dataframe\">\n",
       "  <thead>\n",
       "    <tr style=\"text-align: right;\">\n",
       "      <th></th>\n",
       "      <th>Column0</th>\n",
       "      <th>Column1</th>\n",
       "      <th>Column2</th>\n",
       "      <th>Column3</th>\n",
       "      <th>Column4</th>\n",
       "      <th>Column5</th>\n",
       "      <th>Column6</th>\n",
       "      <th>Column7</th>\n",
       "      <th>Column8</th>\n",
       "      <th>Column10</th>\n",
       "      <th>...</th>\n",
       "      <th>Column13</th>\n",
       "      <th>Column14</th>\n",
       "      <th>Column15</th>\n",
       "      <th>Column16</th>\n",
       "      <th>Column17</th>\n",
       "      <th>Column18</th>\n",
       "      <th>Column19</th>\n",
       "      <th>Column20</th>\n",
       "      <th>Column21</th>\n",
       "      <th>target</th>\n",
       "    </tr>\n",
       "  </thead>\n",
       "  <tbody>\n",
       "    <tr>\n",
       "      <th>count</th>\n",
       "      <td>785124.000000</td>\n",
       "      <td>785133.000000</td>\n",
       "      <td>785133.000000</td>\n",
       "      <td>658830.000000</td>\n",
       "      <td>657423.000000</td>\n",
       "      <td>617953.000000</td>\n",
       "      <td>781283.000000</td>\n",
       "      <td>785133.000000</td>\n",
       "      <td>781283.000000</td>\n",
       "      <td>785133.000000</td>\n",
       "      <td>...</td>\n",
       "      <td>785133.000000</td>\n",
       "      <td>419430.000000</td>\n",
       "      <td>768677.000000</td>\n",
       "      <td>785133.000000</td>\n",
       "      <td>785133.000000</td>\n",
       "      <td>785133.000000</td>\n",
       "      <td>785133.000000</td>\n",
       "      <td>785133.000000</td>\n",
       "      <td>785133.000000</td>\n",
       "      <td>785133.000000</td>\n",
       "    </tr>\n",
       "    <tr>\n",
       "      <th>mean</th>\n",
       "      <td>0.440757</td>\n",
       "      <td>1321.788614</td>\n",
       "      <td>2951.279411</td>\n",
       "      <td>-0.000210</td>\n",
       "      <td>-0.000855</td>\n",
       "      <td>-0.000367</td>\n",
       "      <td>-0.000709</td>\n",
       "      <td>0.000727</td>\n",
       "      <td>-0.000158</td>\n",
       "      <td>0.240575</td>\n",
       "      <td>...</td>\n",
       "      <td>0.328285</td>\n",
       "      <td>-0.000863</td>\n",
       "      <td>-0.000837</td>\n",
       "      <td>0.001206</td>\n",
       "      <td>0.270092</td>\n",
       "      <td>0.147856</td>\n",
       "      <td>0.018759</td>\n",
       "      <td>0.009351</td>\n",
       "      <td>0.002757</td>\n",
       "      <td>0.094294</td>\n",
       "    </tr>\n",
       "    <tr>\n",
       "      <th>std</th>\n",
       "      <td>1.163275</td>\n",
       "      <td>907.267965</td>\n",
       "      <td>2143.140140</td>\n",
       "      <td>0.999935</td>\n",
       "      <td>1.000350</td>\n",
       "      <td>1.015255</td>\n",
       "      <td>0.998984</td>\n",
       "      <td>1.045883</td>\n",
       "      <td>1.056769</td>\n",
       "      <td>0.427433</td>\n",
       "      <td>...</td>\n",
       "      <td>0.469589</td>\n",
       "      <td>1.291202</td>\n",
       "      <td>1.283393</td>\n",
       "      <td>0.034855</td>\n",
       "      <td>3.128214</td>\n",
       "      <td>0.430530</td>\n",
       "      <td>0.135671</td>\n",
       "      <td>0.096249</td>\n",
       "      <td>0.052439</td>\n",
       "      <td>0.292237</td>\n",
       "    </tr>\n",
       "    <tr>\n",
       "      <th>min</th>\n",
       "      <td>0.000000</td>\n",
       "      <td>-1080.000000</td>\n",
       "      <td>-47.000000</td>\n",
       "      <td>-2.028572</td>\n",
       "      <td>-1.855728</td>\n",
       "      <td>-0.007469</td>\n",
       "      <td>-0.407939</td>\n",
       "      <td>-0.015607</td>\n",
       "      <td>-0.774979</td>\n",
       "      <td>0.000000</td>\n",
       "      <td>...</td>\n",
       "      <td>0.000000</td>\n",
       "      <td>-832.749615</td>\n",
       "      <td>-1091.545904</td>\n",
       "      <td>0.000000</td>\n",
       "      <td>0.000000</td>\n",
       "      <td>0.000000</td>\n",
       "      <td>0.000000</td>\n",
       "      <td>0.000000</td>\n",
       "      <td>0.000000</td>\n",
       "      <td>0.000000</td>\n",
       "    </tr>\n",
       "    <tr>\n",
       "      <th>25%</th>\n",
       "      <td>0.000000</td>\n",
       "      <td>515.000000</td>\n",
       "      <td>1129.000000</td>\n",
       "      <td>-0.675216</td>\n",
       "      <td>-0.577162</td>\n",
       "      <td>-0.007469</td>\n",
       "      <td>-0.407939</td>\n",
       "      <td>-0.015607</td>\n",
       "      <td>-0.774979</td>\n",
       "      <td>0.000000</td>\n",
       "      <td>...</td>\n",
       "      <td>0.000000</td>\n",
       "      <td>0.001351</td>\n",
       "      <td>0.003390</td>\n",
       "      <td>0.000000</td>\n",
       "      <td>0.000000</td>\n",
       "      <td>0.000000</td>\n",
       "      <td>0.000000</td>\n",
       "      <td>0.000000</td>\n",
       "      <td>0.000000</td>\n",
       "      <td>0.000000</td>\n",
       "    </tr>\n",
       "    <tr>\n",
       "      <th>50%</th>\n",
       "      <td>0.000000</td>\n",
       "      <td>1173.000000</td>\n",
       "      <td>2709.000000</td>\n",
       "      <td>0.678139</td>\n",
       "      <td>0.701403</td>\n",
       "      <td>-0.007469</td>\n",
       "      <td>-0.407939</td>\n",
       "      <td>-0.015607</td>\n",
       "      <td>0.122085</td>\n",
       "      <td>0.000000</td>\n",
       "      <td>...</td>\n",
       "      <td>0.000000</td>\n",
       "      <td>0.001351</td>\n",
       "      <td>0.003390</td>\n",
       "      <td>0.000000</td>\n",
       "      <td>0.000000</td>\n",
       "      <td>0.000000</td>\n",
       "      <td>0.000000</td>\n",
       "      <td>0.000000</td>\n",
       "      <td>0.000000</td>\n",
       "      <td>0.000000</td>\n",
       "    </tr>\n",
       "    <tr>\n",
       "      <th>75%</th>\n",
       "      <td>0.000000</td>\n",
       "      <td>2435.000000</td>\n",
       "      <td>4472.000000</td>\n",
       "      <td>0.678139</td>\n",
       "      <td>0.701403</td>\n",
       "      <td>-0.007468</td>\n",
       "      <td>-0.367723</td>\n",
       "      <td>-0.015607</td>\n",
       "      <td>0.625528</td>\n",
       "      <td>0.000000</td>\n",
       "      <td>...</td>\n",
       "      <td>1.000000</td>\n",
       "      <td>0.001351</td>\n",
       "      <td>0.003390</td>\n",
       "      <td>0.000000</td>\n",
       "      <td>0.000000</td>\n",
       "      <td>0.000000</td>\n",
       "      <td>0.000000</td>\n",
       "      <td>0.000000</td>\n",
       "      <td>0.000000</td>\n",
       "      <td>0.000000</td>\n",
       "    </tr>\n",
       "    <tr>\n",
       "      <th>max</th>\n",
       "      <td>18.000000</td>\n",
       "      <td>2499.000000</td>\n",
       "      <td>10290.000000</td>\n",
       "      <td>0.678139</td>\n",
       "      <td>0.701403</td>\n",
       "      <td>551.421127</td>\n",
       "      <td>14.985817</td>\n",
       "      <td>201.687947</td>\n",
       "      <td>323.992484</td>\n",
       "      <td>1.000000</td>\n",
       "      <td>...</td>\n",
       "      <td>1.000000</td>\n",
       "      <td>8.514416</td>\n",
       "      <td>0.012736</td>\n",
       "      <td>2.000000</td>\n",
       "      <td>728.000000</td>\n",
       "      <td>12.000000</td>\n",
       "      <td>1.000000</td>\n",
       "      <td>1.000000</td>\n",
       "      <td>1.000000</td>\n",
       "      <td>1.000000</td>\n",
       "    </tr>\n",
       "  </tbody>\n",
       "</table>\n",
       "<p>8 rows × 22 columns</p>\n",
       "</div>"
      ],
      "text/plain": [
       "             Column0        Column1        Column2        Column3  \\\n",
       "count  785124.000000  785133.000000  785133.000000  658830.000000   \n",
       "mean        0.440757    1321.788614    2951.279411      -0.000210   \n",
       "std         1.163275     907.267965    2143.140140       0.999935   \n",
       "min         0.000000   -1080.000000     -47.000000      -2.028572   \n",
       "25%         0.000000     515.000000    1129.000000      -0.675216   \n",
       "50%         0.000000    1173.000000    2709.000000       0.678139   \n",
       "75%         0.000000    2435.000000    4472.000000       0.678139   \n",
       "max        18.000000    2499.000000   10290.000000       0.678139   \n",
       "\n",
       "             Column4        Column5        Column6        Column7  \\\n",
       "count  657423.000000  617953.000000  781283.000000  785133.000000   \n",
       "mean       -0.000855      -0.000367      -0.000709       0.000727   \n",
       "std         1.000350       1.015255       0.998984       1.045883   \n",
       "min        -1.855728      -0.007469      -0.407939      -0.015607   \n",
       "25%        -0.577162      -0.007469      -0.407939      -0.015607   \n",
       "50%         0.701403      -0.007469      -0.407939      -0.015607   \n",
       "75%         0.701403      -0.007468      -0.367723      -0.015607   \n",
       "max         0.701403     551.421127      14.985817     201.687947   \n",
       "\n",
       "             Column8       Column10  ...       Column13       Column14  \\\n",
       "count  781283.000000  785133.000000  ...  785133.000000  419430.000000   \n",
       "mean       -0.000158       0.240575  ...       0.328285      -0.000863   \n",
       "std         1.056769       0.427433  ...       0.469589       1.291202   \n",
       "min        -0.774979       0.000000  ...       0.000000    -832.749615   \n",
       "25%        -0.774979       0.000000  ...       0.000000       0.001351   \n",
       "50%         0.122085       0.000000  ...       0.000000       0.001351   \n",
       "75%         0.625528       0.000000  ...       1.000000       0.001351   \n",
       "max       323.992484       1.000000  ...       1.000000       8.514416   \n",
       "\n",
       "            Column15       Column16       Column17       Column18  \\\n",
       "count  768677.000000  785133.000000  785133.000000  785133.000000   \n",
       "mean       -0.000837       0.001206       0.270092       0.147856   \n",
       "std         1.283393       0.034855       3.128214       0.430530   \n",
       "min     -1091.545904       0.000000       0.000000       0.000000   \n",
       "25%         0.003390       0.000000       0.000000       0.000000   \n",
       "50%         0.003390       0.000000       0.000000       0.000000   \n",
       "75%         0.003390       0.000000       0.000000       0.000000   \n",
       "max         0.012736       2.000000     728.000000      12.000000   \n",
       "\n",
       "            Column19       Column20       Column21         target  \n",
       "count  785133.000000  785133.000000  785133.000000  785133.000000  \n",
       "mean        0.018759       0.009351       0.002757       0.094294  \n",
       "std         0.135671       0.096249       0.052439       0.292237  \n",
       "min         0.000000       0.000000       0.000000       0.000000  \n",
       "25%         0.000000       0.000000       0.000000       0.000000  \n",
       "50%         0.000000       0.000000       0.000000       0.000000  \n",
       "75%         0.000000       0.000000       0.000000       0.000000  \n",
       "max         1.000000       1.000000       1.000000       1.000000  \n",
       "\n",
       "[8 rows x 22 columns]"
      ]
     },
     "execution_count": 335,
     "metadata": {},
     "output_type": "execute_result"
    }
   ],
   "source": [
    "df1_new.describe()"
   ]
  },
  {
   "cell_type": "code",
   "execution_count": 336,
   "id": "81044c54",
   "metadata": {},
   "outputs": [],
   "source": [
    "null_percentage = df1_new.isnull().sum()/len(df1_new)*100"
   ]
  },
  {
   "cell_type": "code",
   "execution_count": 346,
   "id": "0eb1501a",
   "metadata": {},
   "outputs": [
    {
     "data": {
      "text/plain": [
       "Column0      0.001146\n",
       "Column1      0.000000\n",
       "Column2      0.000000\n",
       "Column3     16.086829\n",
       "Column4     16.266034\n",
       "Column5     21.293208\n",
       "Column6      0.490363\n",
       "Column7      0.000000\n",
       "Column8      0.490363\n",
       "Column10     0.000000\n",
       "Column11     0.000000\n",
       "Column12     0.000000\n",
       "Column13     0.000000\n",
       "Column14    46.578478\n",
       "Column15     2.095951\n",
       "Column16     0.000000\n",
       "Column17     0.000000\n",
       "Column18     0.000000\n",
       "Column19     0.000000\n",
       "Column20     0.000000\n",
       "Column21     0.000000\n",
       "target       0.000000\n",
       "dtype: float64"
      ]
     },
     "execution_count": 346,
     "metadata": {},
     "output_type": "execute_result"
    }
   ],
   "source": [
    "null_percentage"
   ]
  },
  {
   "cell_type": "code",
   "execution_count": 337,
   "id": "18a83ef2",
   "metadata": {},
   "outputs": [],
   "source": [
    "cols = null_percentage[null_percentage > 5].iloc[:].index"
   ]
  },
  {
   "cell_type": "code",
   "execution_count": 338,
   "id": "23e17488",
   "metadata": {},
   "outputs": [
    {
     "data": {
      "text/plain": [
       "Index(['Column3', 'Column4', 'Column5', 'Column14'], dtype='object')"
      ]
     },
     "execution_count": 338,
     "metadata": {},
     "output_type": "execute_result"
    }
   ],
   "source": [
    "cols"
   ]
  },
  {
   "cell_type": "code",
   "execution_count": 277,
   "id": "6bff3026",
   "metadata": {},
   "outputs": [],
   "source": [
    "from sklearn.impute import SimpleImputer\n",
    "from sklearn.impute import KNNImputer"
   ]
  },
  {
   "cell_type": "code",
   "execution_count": 278,
   "id": "43c8f202",
   "metadata": {},
   "outputs": [],
   "source": [
    "imputer = SimpleImputer()"
   ]
  },
  {
   "cell_type": "code",
   "execution_count": 279,
   "id": "996b6b62",
   "metadata": {},
   "outputs": [],
   "source": [
    "knnimp = KNNImputer()"
   ]
  },
  {
   "cell_type": "code",
   "execution_count": 280,
   "id": "bfc4f1e5",
   "metadata": {},
   "outputs": [],
   "source": [
    "from sklearn.preprocessing import StandardScaler"
   ]
  },
  {
   "cell_type": "code",
   "execution_count": 281,
   "id": "2140a0d9",
   "metadata": {},
   "outputs": [],
   "source": [
    "scaler = StandardScaler()"
   ]
  },
  {
   "cell_type": "code",
   "execution_count": 282,
   "id": "8535ad00",
   "metadata": {},
   "outputs": [],
   "source": [
    "columns = df1_new.columns"
   ]
  },
  {
   "cell_type": "code",
   "execution_count": 283,
   "id": "a6ae4363",
   "metadata": {},
   "outputs": [],
   "source": [
    "columns = list(columns)"
   ]
  },
  {
   "cell_type": "code",
   "execution_count": 284,
   "id": "873a6606",
   "metadata": {},
   "outputs": [
    {
     "data": {
      "text/plain": [
       "'target'"
      ]
     },
     "execution_count": 284,
     "metadata": {},
     "output_type": "execute_result"
    }
   ],
   "source": [
    "columns.pop()"
   ]
  },
  {
   "cell_type": "code",
   "execution_count": 285,
   "id": "fd9d58db",
   "metadata": {},
   "outputs": [
    {
     "data": {
      "text/plain": [
       "['Column1',\n",
       " 'Column2',\n",
       " 'Column3',\n",
       " 'Column4',\n",
       " 'Column5',\n",
       " 'Column6',\n",
       " 'Column7',\n",
       " 'Column8',\n",
       " 'Column9',\n",
       " 'Column11',\n",
       " 'Column12',\n",
       " 'Column13',\n",
       " 'Column14',\n",
       " 'Column15',\n",
       " 'Column16',\n",
       " 'Column17',\n",
       " 'Column18',\n",
       " 'Column19',\n",
       " 'Column20',\n",
       " 'Column21']"
      ]
     },
     "execution_count": 285,
     "metadata": {},
     "output_type": "execute_result"
    }
   ],
   "source": [
    "columns"
   ]
  },
  {
   "cell_type": "code",
   "execution_count": 344,
   "id": "6bca0a76",
   "metadata": {
    "scrolled": false
   },
   "outputs": [],
   "source": [
    "def boxplots(df, x, y):\n",
    "    \n",
    "    fig, axes = plt.subplots(x, y, figsize=(15, 10))\n",
    "\n",
    "    axes = axes.flatten()\n",
    "\n",
    "    for i, col in enumerate(df.columns):\n",
    "        sns.boxplot(df1_new[col], ax=axes[i])\n",
    "        axes[i].set_title(f'Boxplot of {col}')\n",
    "\n",
    "    plt.tight_layout()\n",
    "    plt.show()"
   ]
  },
  {
   "cell_type": "code",
   "execution_count": 480,
   "id": "98d0dfeb",
   "metadata": {},
   "outputs": [],
   "source": [
    "def outliers_detext(df, columns):\n",
    "    for col in columns:\n",
    "        # Calculate Q1 (25th percentile) and Q3 (75th percentile)\n",
    "        Q1 = df[col].quantile(0.25)\n",
    "        Q3 = df[col].quantile(0.75)\n",
    "        IQR = Q3 - Q1  # Interquartile range\n",
    "        \n",
    "        # Define the lower and upper bounds\n",
    "        lower_bound = Q1 - 1.5 * IQR\n",
    "        upper_bound = Q3 + 1.5 * IQR\n",
    "        \n",
    "        # Cap the values\n",
    "        df[col] = df[col].clip(lower_bound, upper_bound)\n",
    "    \n",
    "    return df"
   ]
  },
  {
   "cell_type": "code",
   "execution_count": 481,
   "id": "8f9e9d29",
   "metadata": {},
   "outputs": [],
   "source": [
    "def outliers_detect(df, range_):\n",
    "    columns_outliers = df.columns[df.nunique() > range_]\n",
    "    return columns_outliers"
   ]
  },
  {
   "cell_type": "code",
   "execution_count": null,
   "id": "3f81b02c",
   "metadata": {},
   "outputs": [],
   "source": []
  },
  {
   "cell_type": "code",
   "execution_count": 361,
   "id": "65e15187",
   "metadata": {},
   "outputs": [],
   "source": [
    "df2 = cap_outliers(df1_new, columns_outliers)"
   ]
  },
  {
   "cell_type": "code",
   "execution_count": 362,
   "id": "114a7022",
   "metadata": {},
   "outputs": [
    {
     "data": {
      "text/html": [
       "<div>\n",
       "<style scoped>\n",
       "    .dataframe tbody tr th:only-of-type {\n",
       "        vertical-align: middle;\n",
       "    }\n",
       "\n",
       "    .dataframe tbody tr th {\n",
       "        vertical-align: top;\n",
       "    }\n",
       "\n",
       "    .dataframe thead th {\n",
       "        text-align: right;\n",
       "    }\n",
       "</style>\n",
       "<table border=\"1\" class=\"dataframe\">\n",
       "  <thead>\n",
       "    <tr style=\"text-align: right;\">\n",
       "      <th></th>\n",
       "      <th>Column0</th>\n",
       "      <th>Column1</th>\n",
       "      <th>Column2</th>\n",
       "      <th>Column3</th>\n",
       "      <th>Column4</th>\n",
       "      <th>Column5</th>\n",
       "      <th>Column6</th>\n",
       "      <th>Column7</th>\n",
       "      <th>Column8</th>\n",
       "      <th>Column10</th>\n",
       "      <th>...</th>\n",
       "      <th>Column13</th>\n",
       "      <th>Column14</th>\n",
       "      <th>Column15</th>\n",
       "      <th>Column16</th>\n",
       "      <th>Column17</th>\n",
       "      <th>Column18</th>\n",
       "      <th>Column19</th>\n",
       "      <th>Column20</th>\n",
       "      <th>Column21</th>\n",
       "      <th>target</th>\n",
       "    </tr>\n",
       "  </thead>\n",
       "  <tbody>\n",
       "    <tr>\n",
       "      <th>0</th>\n",
       "      <td>0.0</td>\n",
       "      <td>2495</td>\n",
       "      <td>3726.0</td>\n",
       "      <td>0.678139</td>\n",
       "      <td>0.701403</td>\n",
       "      <td>-0.007468</td>\n",
       "      <td>-0.307398</td>\n",
       "      <td>-0.015607</td>\n",
       "      <td>0.606265</td>\n",
       "      <td>0</td>\n",
       "      <td>...</td>\n",
       "      <td>0</td>\n",
       "      <td>0.001351</td>\n",
       "      <td>0.00339</td>\n",
       "      <td>0.0</td>\n",
       "      <td>0</td>\n",
       "      <td>0.0</td>\n",
       "      <td>0</td>\n",
       "      <td>0</td>\n",
       "      <td>0</td>\n",
       "      <td>0</td>\n",
       "    </tr>\n",
       "    <tr>\n",
       "      <th>1</th>\n",
       "      <td>0.0</td>\n",
       "      <td>2495</td>\n",
       "      <td>3454.0</td>\n",
       "      <td>0.452580</td>\n",
       "      <td>0.701403</td>\n",
       "      <td>-0.007468</td>\n",
       "      <td>-0.307398</td>\n",
       "      <td>-0.015607</td>\n",
       "      <td>0.329946</td>\n",
       "      <td>0</td>\n",
       "      <td>...</td>\n",
       "      <td>0</td>\n",
       "      <td>0.001351</td>\n",
       "      <td>0.00339</td>\n",
       "      <td>0.0</td>\n",
       "      <td>0</td>\n",
       "      <td>0.0</td>\n",
       "      <td>0</td>\n",
       "      <td>0</td>\n",
       "      <td>0</td>\n",
       "      <td>0</td>\n",
       "    </tr>\n",
       "    <tr>\n",
       "      <th>2</th>\n",
       "      <td>0.0</td>\n",
       "      <td>2495</td>\n",
       "      <td>4543.0</td>\n",
       "      <td>-1.577453</td>\n",
       "      <td>-1.429540</td>\n",
       "      <td>-0.007469</td>\n",
       "      <td>-0.407939</td>\n",
       "      <td>-0.015607</td>\n",
       "      <td>-0.774979</td>\n",
       "      <td>1</td>\n",
       "      <td>...</td>\n",
       "      <td>1</td>\n",
       "      <td>0.001351</td>\n",
       "      <td>0.00339</td>\n",
       "      <td>0.0</td>\n",
       "      <td>0</td>\n",
       "      <td>0.0</td>\n",
       "      <td>0</td>\n",
       "      <td>0</td>\n",
       "      <td>0</td>\n",
       "      <td>0</td>\n",
       "    </tr>\n",
       "    <tr>\n",
       "      <th>3</th>\n",
       "      <td>0.0</td>\n",
       "      <td>211</td>\n",
       "      <td>59.0</td>\n",
       "      <td>NaN</td>\n",
       "      <td>NaN</td>\n",
       "      <td>NaN</td>\n",
       "      <td>-0.407939</td>\n",
       "      <td>-0.015607</td>\n",
       "      <td>-0.774979</td>\n",
       "      <td>0</td>\n",
       "      <td>...</td>\n",
       "      <td>0</td>\n",
       "      <td>NaN</td>\n",
       "      <td>0.00339</td>\n",
       "      <td>0.0</td>\n",
       "      <td>0</td>\n",
       "      <td>0.0</td>\n",
       "      <td>0</td>\n",
       "      <td>0</td>\n",
       "      <td>0</td>\n",
       "      <td>1</td>\n",
       "    </tr>\n",
       "    <tr>\n",
       "      <th>4</th>\n",
       "      <td>0.0</td>\n",
       "      <td>718</td>\n",
       "      <td>950.0</td>\n",
       "      <td>-2.028572</td>\n",
       "      <td>-1.855728</td>\n",
       "      <td>NaN</td>\n",
       "      <td>-0.407939</td>\n",
       "      <td>-0.015607</td>\n",
       "      <td>-0.774979</td>\n",
       "      <td>0</td>\n",
       "      <td>...</td>\n",
       "      <td>0</td>\n",
       "      <td>NaN</td>\n",
       "      <td>0.00339</td>\n",
       "      <td>0.0</td>\n",
       "      <td>0</td>\n",
       "      <td>0.0</td>\n",
       "      <td>0</td>\n",
       "      <td>0</td>\n",
       "      <td>0</td>\n",
       "      <td>0</td>\n",
       "    </tr>\n",
       "  </tbody>\n",
       "</table>\n",
       "<p>5 rows × 22 columns</p>\n",
       "</div>"
      ],
      "text/plain": [
       "   Column0  Column1  Column2   Column3   Column4   Column5   Column6  \\\n",
       "0      0.0     2495   3726.0  0.678139  0.701403 -0.007468 -0.307398   \n",
       "1      0.0     2495   3454.0  0.452580  0.701403 -0.007468 -0.307398   \n",
       "2      0.0     2495   4543.0 -1.577453 -1.429540 -0.007469 -0.407939   \n",
       "3      0.0      211     59.0       NaN       NaN       NaN -0.407939   \n",
       "4      0.0      718    950.0 -2.028572 -1.855728       NaN -0.407939   \n",
       "\n",
       "    Column7   Column8  Column10  ...  Column13  Column14  Column15  Column16  \\\n",
       "0 -0.015607  0.606265         0  ...         0  0.001351   0.00339       0.0   \n",
       "1 -0.015607  0.329946         0  ...         0  0.001351   0.00339       0.0   \n",
       "2 -0.015607 -0.774979         1  ...         1  0.001351   0.00339       0.0   \n",
       "3 -0.015607 -0.774979         0  ...         0       NaN   0.00339       0.0   \n",
       "4 -0.015607 -0.774979         0  ...         0       NaN   0.00339       0.0   \n",
       "\n",
       "   Column17  Column18  Column19  Column20  Column21  target  \n",
       "0         0       0.0         0         0         0       0  \n",
       "1         0       0.0         0         0         0       0  \n",
       "2         0       0.0         0         0         0       0  \n",
       "3         0       0.0         0         0         0       1  \n",
       "4         0       0.0         0         0         0       0  \n",
       "\n",
       "[5 rows x 22 columns]"
      ]
     },
     "execution_count": 362,
     "metadata": {},
     "output_type": "execute_result"
    }
   ],
   "source": [
    "df2.head()"
   ]
  },
  {
   "cell_type": "code",
   "execution_count": 363,
   "id": "2357d0c7",
   "metadata": {},
   "outputs": [
    {
     "data": {
      "text/plain": [
       "(785133, 22)"
      ]
     },
     "execution_count": 363,
     "metadata": {},
     "output_type": "execute_result"
    }
   ],
   "source": [
    "df2.shape"
   ]
  },
  {
   "cell_type": "code",
   "execution_count": 467,
   "id": "67eb7449",
   "metadata": {
    "scrolled": true
   },
   "outputs": [],
   "source": [
    "boxplots(df2, 3, 8)"
   ]
  },
  {
   "cell_type": "code",
   "execution_count": 466,
   "id": "3622df1a",
   "metadata": {},
   "outputs": [],
   "source": [
    "df2.isnull().sum()"
   ]
  },
  {
   "cell_type": "code",
   "execution_count": 465,
   "id": "f82d2d06",
   "metadata": {},
   "outputs": [],
   "source": [
    "unique_values(df2)"
   ]
  },
  {
   "cell_type": "code",
   "execution_count": 382,
   "id": "db4707f5",
   "metadata": {},
   "outputs": [],
   "source": [
    "# unique_values(df)"
   ]
  },
  {
   "cell_type": "code",
   "execution_count": null,
   "id": "713f23be",
   "metadata": {},
   "outputs": [],
   "source": [
    "# unique_values(df1_new)"
   ]
  },
  {
   "cell_type": "code",
   "execution_count": null,
   "id": "97a6c442",
   "metadata": {},
   "outputs": [],
   "source": []
  },
  {
   "cell_type": "code",
   "execution_count": 384,
   "id": "98a93b3a",
   "metadata": {},
   "outputs": [],
   "source": [
    "imputer = SimpleImputer(strategy = \"median\")"
   ]
  },
  {
   "cell_type": "code",
   "execution_count": null,
   "id": "8eee9e0a",
   "metadata": {},
   "outputs": [],
   "source": []
  },
  {
   "cell_type": "code",
   "execution_count": 385,
   "id": "8fc09018",
   "metadata": {},
   "outputs": [],
   "source": [
    "x = df2.drop(\"target\", axis = 1)\n",
    "y = df2[\"target\"]"
   ]
  },
  {
   "cell_type": "code",
   "execution_count": 386,
   "id": "a380dc4e",
   "metadata": {},
   "outputs": [],
   "source": [
    "x = imputer.fit_transform(x)"
   ]
  },
  {
   "cell_type": "code",
   "execution_count": 387,
   "id": "f9687af2",
   "metadata": {},
   "outputs": [
    {
     "data": {
      "text/plain": [
       "array([[   0., 2495., 3726., ...,    0.,    0.,    0.],\n",
       "       [   0., 2495., 3454., ...,    0.,    0.,    0.],\n",
       "       [   0., 2495., 4543., ...,    0.,    0.,    0.],\n",
       "       ...,\n",
       "       [   0., 2495., 3760., ...,    0.,    0.,    0.],\n",
       "       [   0., 2480., 4493., ...,    0.,    0.,    0.],\n",
       "       [   0., 2495., 4202., ...,    0.,    0.,    0.]])"
      ]
     },
     "execution_count": 387,
     "metadata": {},
     "output_type": "execute_result"
    }
   ],
   "source": [
    "x"
   ]
  },
  {
   "cell_type": "code",
   "execution_count": 388,
   "id": "e58a38d4",
   "metadata": {},
   "outputs": [
    {
     "data": {
      "text/plain": [
       "array([0, 1], dtype=int64)"
      ]
     },
     "execution_count": 388,
     "metadata": {},
     "output_type": "execute_result"
    }
   ],
   "source": [
    "y.unique()"
   ]
  },
  {
   "cell_type": "code",
   "execution_count": null,
   "id": "3fa1c342",
   "metadata": {},
   "outputs": [],
   "source": []
  },
  {
   "cell_type": "code",
   "execution_count": 389,
   "id": "1c3f32bd",
   "metadata": {},
   "outputs": [],
   "source": [
    "x_train, x_test, y_train, y_test = train_test_split(x, y)"
   ]
  },
  {
   "cell_type": "code",
   "execution_count": 390,
   "id": "103aa08c",
   "metadata": {},
   "outputs": [],
   "source": [
    "from sklearn.decomposition import PCA"
   ]
  },
  {
   "cell_type": "code",
   "execution_count": 496,
   "id": "249d0474",
   "metadata": {},
   "outputs": [],
   "source": [
    "pca = PCA(n_components = 10)"
   ]
  },
  {
   "cell_type": "code",
   "execution_count": 497,
   "id": "8ce70668",
   "metadata": {},
   "outputs": [],
   "source": [
    "x_train_scaled = scaler.fit_transform(x_train)\n",
    "x_test_scaled = scaler.transform(x_test)"
   ]
  },
  {
   "cell_type": "code",
   "execution_count": 498,
   "id": "127289f9",
   "metadata": {},
   "outputs": [],
   "source": [
    "x_train_pca = pca.fit_transform(x_train_scaled)\n",
    "x_test_pca = pca.transform(x_test_scaled)"
   ]
  },
  {
   "cell_type": "code",
   "execution_count": 499,
   "id": "a9415557",
   "metadata": {},
   "outputs": [],
   "source": [
    "from sklearn.linear_model import LogisticRegression"
   ]
  },
  {
   "cell_type": "code",
   "execution_count": 500,
   "id": "8f0c6ba8",
   "metadata": {},
   "outputs": [],
   "source": [
    "lgr = LogisticRegression()"
   ]
  },
  {
   "cell_type": "code",
   "execution_count": 501,
   "id": "a1f80882",
   "metadata": {},
   "outputs": [
    {
     "data": {
      "text/html": [
       "<style>#sk-container-id-12 {color: black;}#sk-container-id-12 pre{padding: 0;}#sk-container-id-12 div.sk-toggleable {background-color: white;}#sk-container-id-12 label.sk-toggleable__label {cursor: pointer;display: block;width: 100%;margin-bottom: 0;padding: 0.3em;box-sizing: border-box;text-align: center;}#sk-container-id-12 label.sk-toggleable__label-arrow:before {content: \"▸\";float: left;margin-right: 0.25em;color: #696969;}#sk-container-id-12 label.sk-toggleable__label-arrow:hover:before {color: black;}#sk-container-id-12 div.sk-estimator:hover label.sk-toggleable__label-arrow:before {color: black;}#sk-container-id-12 div.sk-toggleable__content {max-height: 0;max-width: 0;overflow: hidden;text-align: left;background-color: #f0f8ff;}#sk-container-id-12 div.sk-toggleable__content pre {margin: 0.2em;color: black;border-radius: 0.25em;background-color: #f0f8ff;}#sk-container-id-12 input.sk-toggleable__control:checked~div.sk-toggleable__content {max-height: 200px;max-width: 100%;overflow: auto;}#sk-container-id-12 input.sk-toggleable__control:checked~label.sk-toggleable__label-arrow:before {content: \"▾\";}#sk-container-id-12 div.sk-estimator input.sk-toggleable__control:checked~label.sk-toggleable__label {background-color: #d4ebff;}#sk-container-id-12 div.sk-label input.sk-toggleable__control:checked~label.sk-toggleable__label {background-color: #d4ebff;}#sk-container-id-12 input.sk-hidden--visually {border: 0;clip: rect(1px 1px 1px 1px);clip: rect(1px, 1px, 1px, 1px);height: 1px;margin: -1px;overflow: hidden;padding: 0;position: absolute;width: 1px;}#sk-container-id-12 div.sk-estimator {font-family: monospace;background-color: #f0f8ff;border: 1px dotted black;border-radius: 0.25em;box-sizing: border-box;margin-bottom: 0.5em;}#sk-container-id-12 div.sk-estimator:hover {background-color: #d4ebff;}#sk-container-id-12 div.sk-parallel-item::after {content: \"\";width: 100%;border-bottom: 1px solid gray;flex-grow: 1;}#sk-container-id-12 div.sk-label:hover label.sk-toggleable__label {background-color: #d4ebff;}#sk-container-id-12 div.sk-serial::before {content: \"\";position: absolute;border-left: 1px solid gray;box-sizing: border-box;top: 0;bottom: 0;left: 50%;z-index: 0;}#sk-container-id-12 div.sk-serial {display: flex;flex-direction: column;align-items: center;background-color: white;padding-right: 0.2em;padding-left: 0.2em;position: relative;}#sk-container-id-12 div.sk-item {position: relative;z-index: 1;}#sk-container-id-12 div.sk-parallel {display: flex;align-items: stretch;justify-content: center;background-color: white;position: relative;}#sk-container-id-12 div.sk-item::before, #sk-container-id-12 div.sk-parallel-item::before {content: \"\";position: absolute;border-left: 1px solid gray;box-sizing: border-box;top: 0;bottom: 0;left: 50%;z-index: -1;}#sk-container-id-12 div.sk-parallel-item {display: flex;flex-direction: column;z-index: 1;position: relative;background-color: white;}#sk-container-id-12 div.sk-parallel-item:first-child::after {align-self: flex-end;width: 50%;}#sk-container-id-12 div.sk-parallel-item:last-child::after {align-self: flex-start;width: 50%;}#sk-container-id-12 div.sk-parallel-item:only-child::after {width: 0;}#sk-container-id-12 div.sk-dashed-wrapped {border: 1px dashed gray;margin: 0 0.4em 0.5em 0.4em;box-sizing: border-box;padding-bottom: 0.4em;background-color: white;}#sk-container-id-12 div.sk-label label {font-family: monospace;font-weight: bold;display: inline-block;line-height: 1.2em;}#sk-container-id-12 div.sk-label-container {text-align: center;}#sk-container-id-12 div.sk-container {/* jupyter's `normalize.less` sets `[hidden] { display: none; }` but bootstrap.min.css set `[hidden] { display: none !important; }` so we also need the `!important` here to be able to override the default hidden behavior on the sphinx rendered scikit-learn.org. See: https://github.com/scikit-learn/scikit-learn/issues/21755 */display: inline-block !important;position: relative;}#sk-container-id-12 div.sk-text-repr-fallback {display: none;}</style><div id=\"sk-container-id-12\" class=\"sk-top-container\"><div class=\"sk-text-repr-fallback\"><pre>LogisticRegression()</pre><b>In a Jupyter environment, please rerun this cell to show the HTML representation or trust the notebook. <br />On GitHub, the HTML representation is unable to render, please try loading this page with nbviewer.org.</b></div><div class=\"sk-container\" hidden><div class=\"sk-item\"><div class=\"sk-estimator sk-toggleable\"><input class=\"sk-toggleable__control sk-hidden--visually\" id=\"sk-estimator-id-12\" type=\"checkbox\" checked><label for=\"sk-estimator-id-12\" class=\"sk-toggleable__label sk-toggleable__label-arrow\">LogisticRegression</label><div class=\"sk-toggleable__content\"><pre>LogisticRegression()</pre></div></div></div></div></div>"
      ],
      "text/plain": [
       "LogisticRegression()"
      ]
     },
     "execution_count": 501,
     "metadata": {},
     "output_type": "execute_result"
    }
   ],
   "source": [
    "lgr.fit(x_train_pca, y_train)"
   ]
  },
  {
   "cell_type": "code",
   "execution_count": 502,
   "id": "0c8c5010",
   "metadata": {},
   "outputs": [],
   "source": [
    "y_pred = lgr.predict(x_test_pca)"
   ]
  },
  {
   "cell_type": "code",
   "execution_count": 503,
   "id": "03450ab0",
   "metadata": {},
   "outputs": [],
   "source": [
    "from sklearn.metrics import accuracy_score, confusion_matrix"
   ]
  },
  {
   "cell_type": "code",
   "execution_count": 504,
   "id": "504d92e2",
   "metadata": {},
   "outputs": [
    {
     "data": {
      "text/plain": [
       "0.9116993743759043"
      ]
     },
     "execution_count": 504,
     "metadata": {},
     "output_type": "execute_result"
    }
   ],
   "source": [
    "accuracy_score(y_test, y_pred)"
   ]
  },
  {
   "cell_type": "code",
   "execution_count": 505,
   "id": "3f0a6a01",
   "metadata": {},
   "outputs": [
    {
     "data": {
      "text/plain": [
       "array([[176634,   1038],\n",
       "       [ 16294,   2318]], dtype=int64)"
      ]
     },
     "execution_count": 505,
     "metadata": {},
     "output_type": "execute_result"
    }
   ],
   "source": [
    "confusion_matrix(y_test, y_pred)"
   ]
  },
  {
   "cell_type": "code",
   "execution_count": 459,
   "id": "659bbbdb",
   "metadata": {},
   "outputs": [],
   "source": [
    "test = pd.read_csv(\"X_Test_Data_Input.csv\")"
   ]
  },
  {
   "cell_type": "code",
   "execution_count": 460,
   "id": "7f69b1cb",
   "metadata": {},
   "outputs": [],
   "source": [
    "test_target = pd.read_csv(\"Y_Test_Data_Target.csv\")"
   ]
  },
  {
   "cell_type": "code",
   "execution_count": 461,
   "id": "18745e8d",
   "metadata": {},
   "outputs": [],
   "source": [
    "# test = pd.merge(test, test_target)"
   ]
  },
  {
   "cell_type": "code",
   "execution_count": 462,
   "id": "77eab071",
   "metadata": {},
   "outputs": [
    {
     "data": {
      "text/html": [
       "<div>\n",
       "<style scoped>\n",
       "    .dataframe tbody tr th:only-of-type {\n",
       "        vertical-align: middle;\n",
       "    }\n",
       "\n",
       "    .dataframe tbody tr th {\n",
       "        vertical-align: top;\n",
       "    }\n",
       "\n",
       "    .dataframe thead th {\n",
       "        text-align: right;\n",
       "    }\n",
       "</style>\n",
       "<table border=\"1\" class=\"dataframe\">\n",
       "  <thead>\n",
       "    <tr style=\"text-align: right;\">\n",
       "      <th></th>\n",
       "      <th>ID</th>\n",
       "      <th>Column0</th>\n",
       "      <th>Column1</th>\n",
       "      <th>Column2</th>\n",
       "      <th>Column3</th>\n",
       "      <th>Column4</th>\n",
       "      <th>Column5</th>\n",
       "      <th>Column6</th>\n",
       "      <th>Column7</th>\n",
       "      <th>Column8</th>\n",
       "      <th>...</th>\n",
       "      <th>Column12</th>\n",
       "      <th>Column13</th>\n",
       "      <th>Column14</th>\n",
       "      <th>Column15</th>\n",
       "      <th>Column16</th>\n",
       "      <th>Column17</th>\n",
       "      <th>Column18</th>\n",
       "      <th>Column19</th>\n",
       "      <th>Column20</th>\n",
       "      <th>Column21</th>\n",
       "    </tr>\n",
       "  </thead>\n",
       "  <tbody>\n",
       "    <tr>\n",
       "      <th>0</th>\n",
       "      <td>07cf2025382f6325b316e128b1b90999</td>\n",
       "      <td>1.0</td>\n",
       "      <td>1986</td>\n",
       "      <td>53.0</td>\n",
       "      <td>0.678139</td>\n",
       "      <td>0.701403</td>\n",
       "      <td>-0.007469</td>\n",
       "      <td>-0.407939</td>\n",
       "      <td>-0.015607</td>\n",
       "      <td>0.554860</td>\n",
       "      <td>...</td>\n",
       "      <td>1</td>\n",
       "      <td>1</td>\n",
       "      <td>0.001351</td>\n",
       "      <td>0.00339</td>\n",
       "      <td>0.0</td>\n",
       "      <td>0</td>\n",
       "      <td>0.0</td>\n",
       "      <td>0</td>\n",
       "      <td>0</td>\n",
       "      <td>0</td>\n",
       "    </tr>\n",
       "    <tr>\n",
       "      <th>1</th>\n",
       "      <td>eb972eb3a1f8d0d1a13f45e7c07d37d4</td>\n",
       "      <td>2.0</td>\n",
       "      <td>1579</td>\n",
       "      <td>12.0</td>\n",
       "      <td>0.678139</td>\n",
       "      <td>0.701403</td>\n",
       "      <td>-0.007468</td>\n",
       "      <td>-0.407939</td>\n",
       "      <td>-0.015607</td>\n",
       "      <td>0.142149</td>\n",
       "      <td>...</td>\n",
       "      <td>1</td>\n",
       "      <td>0</td>\n",
       "      <td>0.001351</td>\n",
       "      <td>0.00339</td>\n",
       "      <td>0.0</td>\n",
       "      <td>0</td>\n",
       "      <td>0.0</td>\n",
       "      <td>0</td>\n",
       "      <td>0</td>\n",
       "      <td>0</td>\n",
       "    </tr>\n",
       "    <tr>\n",
       "      <th>2</th>\n",
       "      <td>ee35e164b3ddc25a9f40243b81ad290d</td>\n",
       "      <td>0.0</td>\n",
       "      <td>898</td>\n",
       "      <td>3817.0</td>\n",
       "      <td>-2.028572</td>\n",
       "      <td>-1.855728</td>\n",
       "      <td>NaN</td>\n",
       "      <td>-0.407939</td>\n",
       "      <td>-0.015607</td>\n",
       "      <td>-0.774979</td>\n",
       "      <td>...</td>\n",
       "      <td>0</td>\n",
       "      <td>0</td>\n",
       "      <td>NaN</td>\n",
       "      <td>0.00339</td>\n",
       "      <td>0.0</td>\n",
       "      <td>0</td>\n",
       "      <td>0.0</td>\n",
       "      <td>0</td>\n",
       "      <td>0</td>\n",
       "      <td>0</td>\n",
       "    </tr>\n",
       "    <tr>\n",
       "      <th>3</th>\n",
       "      <td>28229ccd7bad7dd83324a4175a7e0531</td>\n",
       "      <td>0.0</td>\n",
       "      <td>79</td>\n",
       "      <td>3449.0</td>\n",
       "      <td>-0.675216</td>\n",
       "      <td>-0.577162</td>\n",
       "      <td>-0.007469</td>\n",
       "      <td>0.004020</td>\n",
       "      <td>-0.015607</td>\n",
       "      <td>0.635264</td>\n",
       "      <td>...</td>\n",
       "      <td>0</td>\n",
       "      <td>1</td>\n",
       "      <td>0.001351</td>\n",
       "      <td>0.00339</td>\n",
       "      <td>0.0</td>\n",
       "      <td>0</td>\n",
       "      <td>0.0</td>\n",
       "      <td>0</td>\n",
       "      <td>0</td>\n",
       "      <td>0</td>\n",
       "    </tr>\n",
       "    <tr>\n",
       "      <th>4</th>\n",
       "      <td>2f94873da2c332d28f111742818e0fbb</td>\n",
       "      <td>1.0</td>\n",
       "      <td>646</td>\n",
       "      <td>6510.0</td>\n",
       "      <td>-2.028572</td>\n",
       "      <td>-1.855728</td>\n",
       "      <td>NaN</td>\n",
       "      <td>-0.407939</td>\n",
       "      <td>-0.015434</td>\n",
       "      <td>-0.774979</td>\n",
       "      <td>...</td>\n",
       "      <td>1</td>\n",
       "      <td>1</td>\n",
       "      <td>NaN</td>\n",
       "      <td>0.00339</td>\n",
       "      <td>0.0</td>\n",
       "      <td>0</td>\n",
       "      <td>0.0</td>\n",
       "      <td>0</td>\n",
       "      <td>0</td>\n",
       "      <td>0</td>\n",
       "    </tr>\n",
       "  </tbody>\n",
       "</table>\n",
       "<p>5 rows × 23 columns</p>\n",
       "</div>"
      ],
      "text/plain": [
       "                                 ID  Column0  Column1  Column2   Column3  \\\n",
       "0  07cf2025382f6325b316e128b1b90999      1.0     1986     53.0  0.678139   \n",
       "1  eb972eb3a1f8d0d1a13f45e7c07d37d4      2.0     1579     12.0  0.678139   \n",
       "2  ee35e164b3ddc25a9f40243b81ad290d      0.0      898   3817.0 -2.028572   \n",
       "3  28229ccd7bad7dd83324a4175a7e0531      0.0       79   3449.0 -0.675216   \n",
       "4  2f94873da2c332d28f111742818e0fbb      1.0      646   6510.0 -2.028572   \n",
       "\n",
       "    Column4   Column5   Column6   Column7   Column8  ...  Column12  Column13  \\\n",
       "0  0.701403 -0.007469 -0.407939 -0.015607  0.554860  ...         1         1   \n",
       "1  0.701403 -0.007468 -0.407939 -0.015607  0.142149  ...         1         0   \n",
       "2 -1.855728       NaN -0.407939 -0.015607 -0.774979  ...         0         0   \n",
       "3 -0.577162 -0.007469  0.004020 -0.015607  0.635264  ...         0         1   \n",
       "4 -1.855728       NaN -0.407939 -0.015434 -0.774979  ...         1         1   \n",
       "\n",
       "   Column14  Column15  Column16  Column17  Column18  Column19  Column20  \\\n",
       "0  0.001351   0.00339       0.0         0       0.0         0         0   \n",
       "1  0.001351   0.00339       0.0         0       0.0         0         0   \n",
       "2       NaN   0.00339       0.0         0       0.0         0         0   \n",
       "3  0.001351   0.00339       0.0         0       0.0         0         0   \n",
       "4       NaN   0.00339       0.0         0       0.0         0         0   \n",
       "\n",
       "   Column21  \n",
       "0         0  \n",
       "1         0  \n",
       "2         0  \n",
       "3         0  \n",
       "4         0  \n",
       "\n",
       "[5 rows x 23 columns]"
      ]
     },
     "execution_count": 462,
     "metadata": {},
     "output_type": "execute_result"
    }
   ],
   "source": [
    "test.head()"
   ]
  },
  {
   "cell_type": "code",
   "execution_count": 464,
   "id": "f855ef75",
   "metadata": {},
   "outputs": [],
   "source": [
    "test = drop(test)"
   ]
  },
  {
   "cell_type": "code",
   "execution_count": 482,
   "id": "89d47924",
   "metadata": {},
   "outputs": [],
   "source": [
    "cols__ = outliers_detect(test, 5)"
   ]
  },
  {
   "cell_type": "code",
   "execution_count": 484,
   "id": "da6f68b2",
   "metadata": {},
   "outputs": [],
   "source": [
    "test_ = outliers_detext(test, cols__)"
   ]
  },
  {
   "cell_type": "code",
   "execution_count": 486,
   "id": "4087d6cd",
   "metadata": {},
   "outputs": [
    {
     "data": {
      "image/png": "[encoded data removed]",
      "text/plain": [
       "<Figure size 1500x1000 with 24 Axes>"
      ]
     },
     "metadata": {},
     "output_type": "display_data"
    }
   ],
   "source": [
    "boxplots(test_, 3, 8)"
   ]
  },
  {
   "cell_type": "code",
   "execution_count": 489,
   "id": "bf3b9085",
   "metadata": {},
   "outputs": [],
   "source": [
    "test__ = imputer.fit_transform(test_)"
   ]
  },
  {
   "cell_type": "code",
   "execution_count": 490,
   "id": "8ed5f660",
   "metadata": {},
   "outputs": [],
   "source": [
    "test___ = scaler.fit_transform(test__)"
   ]
  },
  {
   "cell_type": "code",
   "execution_count": 494,
   "id": "be50c008",
   "metadata": {},
   "outputs": [],
   "source": [
    "test____ = pca.fit_transform(test___)"
   ]
  },
  {
   "cell_type": "code",
   "execution_count": 507,
   "id": "2c554f75",
   "metadata": {},
   "outputs": [],
   "source": [
    "y_pred__ = lgr.predict(test____)"
   ]
  },
  {
   "cell_type": "code",
   "execution_count": 510,
   "id": "c82bdf29",
   "metadata": {},
   "outputs": [],
   "source": [
    "test_target = test_target.drop(\"ID\", axis = 1)"
   ]
  },
  {
   "cell_type": "code",
   "execution_count": 511,
   "id": "a3022d99",
   "metadata": {},
   "outputs": [
    {
     "data": {
      "text/plain": [
       "0.9008834138289418"
      ]
     },
     "execution_count": 511,
     "metadata": {},
     "output_type": "execute_result"
    }
   ],
   "source": [
    "accuracy_score(y_pred__ , test_target)"
   ]
  },
  {
   "cell_type": "code",
   "execution_count": null,
   "id": "e8d10f6a",
   "metadata": {},
   "outputs": [],
   "source": []
  },
  {
   "cell_type": "code",
   "execution_count": null,
   "id": "18e0b40a",
   "metadata": {},
   "outputs": [],
   "source": []
  },
  {
   "cell_type": "code",
   "execution_count": null,
   "id": "98308dc3",
   "metadata": {},
   "outputs": [],
   "source": []
  },
  {
   "cell_type": "code",
   "execution_count": null,
   "id": "6b797637",
   "metadata": {},
   "outputs": [],
   "source": []
  },
  {
   "cell_type": "code",
   "execution_count": null,
   "id": "8858fbf3",
   "metadata": {},
   "outputs": [],
   "source": []
  },
  {
   "cell_type": "code",
   "execution_count": null,
   "id": "b7b51177",
   "metadata": {},
   "outputs": [],
   "source": []
  },
  {
   "cell_type": "code",
   "execution_count": null,
   "id": "d0e5223f",
   "metadata": {},
   "outputs": [],
   "source": []
  },
  {
   "cell_type": "code",
   "execution_count": null,
   "id": "4a2260bb",
   "metadata": {},
   "outputs": [],
   "source": []
  },
  {
   "cell_type": "code",
   "execution_count": null,
   "id": "0a36d8c5",
   "metadata": {},
   "outputs": [],
   "source": []
  },
  {
   "cell_type": "code",
   "execution_count": 437,
   "id": "a5158219",
   "metadata": {},
   "outputs": [],
   "source": [
    "from sklearn.ensemble import RandomForestClassifier\n"
   ]
  },
  {
   "cell_type": "code",
   "execution_count": 438,
   "id": "5e015f7b",
   "metadata": {},
   "outputs": [],
   "source": [
    "rfc = RandomForestClassifier()"
   ]
  },
  {
   "cell_type": "code",
   "execution_count": 440,
   "id": "d31c4147",
   "metadata": {},
   "outputs": [],
   "source": [
    "# rfc.fit(x_train_pca, y_train)"
   ]
  },
  {
   "cell_type": "code",
   "execution_count": 441,
   "id": "8bd9391a",
   "metadata": {},
   "outputs": [],
   "source": [
    "# y_pred_rfc = rfc.predict(x_test_pca)"
   ]
  },
  {
   "cell_type": "code",
   "execution_count": 442,
   "id": "c6ce33c5",
   "metadata": {},
   "outputs": [],
   "source": [
    "# accuracy_score(y_pred_rfc, y_test)"
   ]
  },
  {
   "cell_type": "code",
   "execution_count": null,
   "id": "1d5e3db0",
   "metadata": {},
   "outputs": [],
   "source": []
  }
 ],
 "metadata": {
  "kernelspec": {
   "display_name": "Python 3 (ipykernel)",
   "language": "python",
   "name": "python3"
  },
  "language_info": {
   "codemirror_mode": {
    "name": "ipython",
    "version": 3
   },
   "file_extension": ".py",
   "mimetype": "text/x-python",
   "name": "python",
   "nbconvert_exporter": "python",
   "pygments_lexer": "ipython3",
   "version": "3.11.5"
  }
 },
 "nbformat": 4,
 "nbformat_minor": 5
}
